{
 "cells": [
  {
   "cell_type": "code",
   "execution_count": 2,
   "metadata": {},
   "outputs": [],
   "source": [
    "import os,sys\n",
    "import pandas as pd\n",
    "import numpy as np\n"
   ]
  },
  {
   "cell_type": "code",
   "execution_count": 3,
   "metadata": {},
   "outputs": [
    {
     "data": {
      "text/plain": [
       "\"to be modified and shift into property files\\n\\ncurrentpath=os.getcwd()\\ndbpath=os.path.join(currentpath,'..','database')\\nstockcsv=os.path.join(dbpath,'stockpath.csv')\\n\\n\\n\""
      ]
     },
     "execution_count": 3,
     "metadata": {},
     "output_type": "execute_result"
    }
   ],
   "source": [
    "'''to be modified and shift into property files\n",
    "\n",
    "currentpath=os.getcwd()\n",
    "dbpath=os.path.join(currentpath,'..','database')\n",
    "stockcsv=os.path.join(dbpath,'stockpath.csv')\n",
    "\n",
    "\n",
    "'''\n"
   ]
  },
  {
   "cell_type": "code",
   "execution_count": 4,
   "metadata": {},
   "outputs": [],
   "source": [
    "class Load_csv(object):\n",
    "    '''This will load data from csv and will return the values.\n",
    "    It will skip any outliers in between.\n",
    "    To handle this need select statement from database.'''\n",
    "    def LoadData(self,filename):\n",
    "        data=pd.read_csv(filename, error_bad_lines=False)\n",
    "        return data\n",
    "    \n",
    "    \n",
    "    def LoadfeaData(self,filename):\n",
    "        data=pd.read_csv(filename, error_bad_lines=False,header=None)\n",
    "        return data\n",
    "    \n",
    "        \n",
    "        "
   ]
  }
 ],
 "metadata": {
  "kernelspec": {
   "display_name": "Python 3",
   "language": "python",
   "name": "python3"
  },
  "language_info": {
   "codemirror_mode": {
    "name": "ipython",
    "version": 3
   },
   "file_extension": ".py",
   "mimetype": "text/x-python",
   "name": "python",
   "nbconvert_exporter": "python",
   "pygments_lexer": "ipython3",
   "version": "3.6.4"
  }
 },
 "nbformat": 4,
 "nbformat_minor": 2
}
