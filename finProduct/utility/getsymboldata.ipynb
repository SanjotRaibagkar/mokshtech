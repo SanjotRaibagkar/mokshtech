{
 "cells": [
  {
   "cell_type": "markdown",
   "metadata": {},
   "source": [
    "'''This is only for the development purpose. Idea is to fetch data via frontend code and dump in csv.\n",
    "    till the time that code is ready we will use this. Once frontend gets ready we will retire c"
   ]
  },
  {
   "cell_type": "code",
   "execution_count": 4,
   "metadata": {},
   "outputs": [
    {
     "ename": "NameError",
     "evalue": "name 'Turnover' is not defined",
     "output_type": "error",
     "traceback": [
      "\u001b[1;31m---------------------------------------------------------------------------\u001b[0m",
      "\u001b[1;31mNameError\u001b[0m                                 Traceback (most recent call last)",
      "\u001b[1;32m<ipython-input-4-291c647e36fb>\u001b[0m in \u001b[0;36m<module>\u001b[1;34m()\u001b[0m\n\u001b[0;32m     15\u001b[0m \u001b[1;33m\u001b[0m\u001b[0m\n\u001b[0;32m     16\u001b[0m \u001b[1;33m\u001b[0m\u001b[0m\n\u001b[1;32m---> 17\u001b[1;33m \u001b[0mgetsymboldata\u001b[0m\u001b[1;33m(\u001b[0m\u001b[1;33m)\u001b[0m\u001b[1;33m\u001b[0m\u001b[0m\n\u001b[0m",
      "\u001b[1;32m<ipython-input-4-291c647e36fb>\u001b[0m in \u001b[0;36mgetsymboldata\u001b[1;34m()\u001b[0m\n\u001b[0;32m     12\u001b[0m                         index=True))\n\u001b[0;32m     13\u001b[0m     \u001b[0mdataset_train\u001b[0m\u001b[1;33m.\u001b[0m\u001b[0mto_csv\u001b[0m\u001b[1;33m(\u001b[0m\u001b[1;34m\"C:/Prgs/Code/mokshtech/am/finProduct/utility/../database/stockpath.csv\"\u001b[0m\u001b[1;33m)\u001b[0m\u001b[1;33m\u001b[0m\u001b[0m\n\u001b[1;32m---> 14\u001b[1;33m     \u001b[0mprint\u001b[0m\u001b[1;33m(\u001b[0m\u001b[0mdataset_train\u001b[0m\u001b[1;33m[\u001b[0m\u001b[0mTurnover\u001b[0m\u001b[1;33m]\u001b[0m\u001b[1;33m)\u001b[0m\u001b[1;33m\u001b[0m\u001b[0m\n\u001b[0m\u001b[0;32m     15\u001b[0m \u001b[1;33m\u001b[0m\u001b[0m\n\u001b[0;32m     16\u001b[0m \u001b[1;33m\u001b[0m\u001b[0m\n",
      "\u001b[1;31mNameError\u001b[0m: name 'Turnover' is not defined"
     ]
    }
   ],
   "source": [
    "import nsepy\n",
    "from datetime import date\n",
    "import pandas as pd\n",
    "\n",
    "def getsymboldata():\n",
    "    '''This is only for the development purpose. Idea is to fetch data via frontend code and dump in csv.\n",
    "    till the time that code is ready we will use this. Once frontend gets ready we will retire code'''\n",
    "\n",
    "    dataset_train  = pd.DataFrame(nsepy.get_history(symbol=\"NIFTY\",\n",
    "                        start=date(2018,1,1),\n",
    "                        end=date(2018,4,6),\n",
    "                        index=True))\n",
    "    dataset_train.to_csv(\"C:/Prgs/Code/mokshtech/am/finProduct/utility/../database/stockpath.csv\")\n",
    "    print(dataset_train.)\n",
    "\n",
    "\n",
    "getsymboldata()"
   ]
  },
  {
   "cell_type": "code",
   "execution_count": null,
   "metadata": {},
   "outputs": [],
   "source": []
  }
 ],
 "metadata": {
  "kernelspec": {
   "display_name": "Python 3",
   "language": "python",
   "name": "python3"
  },
  "language_info": {
   "codemirror_mode": {
    "name": "ipython",
    "version": 3
   },
   "file_extension": ".py",
   "mimetype": "text/x-python",
   "name": "python",
   "nbconvert_exporter": "python",
   "pygments_lexer": "ipython3",
   "version": "3.6.4"
  }
 },
 "nbformat": 4,
 "nbformat_minor": 2
}
