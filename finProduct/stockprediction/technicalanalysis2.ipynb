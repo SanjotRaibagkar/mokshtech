{
 "cells": [
  {
   "cell_type": "code",
   "execution_count": 1,
   "metadata": {},
   "outputs": [
    {
     "name": "stdout",
     "output_type": "stream",
     "text": [
      "C:\\Prgs\\Code\\mokshtech\\Fin_Product\n",
      "importing Jupyter notebook from C:\\Prgs\\Code\\mokshtech\\Fin_Product\\utility\\Load_Csv.ipynb\n",
      "C:\\Prgs\\Code\\mokshtech\\Fin_Product\\stockprediction\n"
     ]
    }
   ],
   "source": [
    "import os\n",
    "import import_ipynb\n",
    "import pandas as pd\n",
    "import itertools\n",
    "import talib\n",
    "import math\n",
    "import numpy as np\n",
    "from numpy import nan\n",
    "\n",
    "'''to be modified and shift into property files'''\n",
    "currentpath=os.getcwd()\n",
    "dbpath=os.path.join(currentpath,\"..\",'database')\n",
    "stockcsv=os.path.join(dbpath,'stockpath.csv')\n",
    "stocktest=os.path.join(dbpath,'stocktest.csv')\n",
    "\n",
    "featurescsv=os.path.join(dbpath,'features.csv')\n",
    "featuresdata=os.path.join(dbpath,'featuresdata.csv')\n",
    "\n",
    "\n",
    "\n",
    "#to import Load_Csv file from another directory. this style is for jupyter notebook\n",
    "                \n",
    "%cd ..\n",
    "from utility import Load_Csv as lcsv\n",
    "%cd stockprediction\n",
    "\n"
   ]
  },
  {
   "cell_type": "code",
   "execution_count": 3,
   "metadata": {},
   "outputs": [],
   "source": [
    "class ta(lcsv.Load_csv):\n",
    "    '''this class contains functions fto predict label with the help of technical indicators'''\n",
    "\n",
    "    def loadcsv(self):\n",
    "        '''load 'Date','Close', 'Volume' data from databse and return dataframe\n",
    "        '''\n",
    "        \n",
    "        self.dataset=self.LoadData(stockcsv).loc[:, ['Date','Close', 'Volume','Open']]\n",
    "        self.dataset['Date'] = pd.to_datetime(self.dataset['Date'])\n",
    "        return self.dataset\n",
    "    \n",
    "\n",
    "    def loadfeaturesdata(self,x):\n",
    "        '''load features detailed data from databse'''\n",
    "        self.featuresdata=self.LoadfeaData(featuresdata)\n",
    "        self.featuresdata.index=self.featuresdata[0]\n",
    "        #self.featuresdata=self.featuresdata.loc[x]\n",
    "        return list(self.featuresdata.loc[x,1:])\n",
    "    \n",
    "    \n",
    "    def ti_Combinations(self):\n",
    "        '''takes input as list of list and  gives output as comninations '''\n",
    "        \n",
    "        #print(\"ti_Combinations\")\n",
    "\n",
    "        self.paneldict={}\n",
    "        def comb_r(row):\n",
    "            \n",
    "            #print(self.dataset)\n",
    "            #print('row',row)\n",
    "            comb_dataset=self.dataset.copy(deep=True)\n",
    "            for i in row:\n",
    "                #print('i',i)\n",
    "                comb_dataset['MA'+str(i)]=self.tdf['MA'+str(i)]\n",
    "                #print('comb_dataset',comb_dataset)\n",
    "            #print('c',comb_dataset)    #To print dataset with all combinations of MA\n",
    "            \n",
    "            #print('self.paneldict',self.paneldict)\n",
    "            self.paneldict[row]=comb_dataset.copy(deep=True)\n",
    "            #print('self.paneldict2',self.paneldict)\n",
    "\n",
    "\n",
    "        try:\n",
    "            a=self.tidict['MA']\n",
    "            #print('combinations_input',a)\n",
    "            #[[10],[50],[60-64]]\n",
    "            comb_df=pd.Series(list(itertools.product(*a)))##get combinatons \n",
    "            #print('comb_df',comb_df)\n",
    "            comb_df.apply(comb_r)\n",
    "            panel_dataset=pd.Panel(self.paneldict)\n",
    "         \n",
    "            '''\n",
    "            ### Error: Panel is not working here . \n",
    "            On printing panel it is printing merge of all unique columns for each dataframe.\n",
    "            \n",
    "            \n",
    "            #print(item for item in panel_dataset.items])  # to print item name of panel\n",
    "            #print('(2, 4, 60)',panel_dataset[(2, 4, 60)])\n",
    "            \n",
    "            '''\n",
    "            \n",
    "            \n",
    "        except Exception as e:\n",
    "            print('e2',e)         \n",
    "       \n",
    "        \n",
    "    def loadfeatures(self):\n",
    "        '''load feature label data from databse\n",
    "        '''\n",
    "        self.featurestilist=[]\n",
    "        self.misc=[]\n",
    "        self.label=[]\n",
    "        self.tilist=dir(talib)\n",
    "        self.featuredict={}\n",
    "        self.tidict={}\n",
    "        self.features=self.LoadfeaData(featurescsv)\n",
    "\n",
    "         \n",
    "        def func(value,args):\n",
    "           \n",
    "\n",
    "            if str(value).find(\"-\")>-1:   #tocheck if range is given \n",
    "                a,b=value.split(\"-\")\n",
    "                a=int(a)\n",
    "                b=int(b)\n",
    "\n",
    "                self.featuredict[args].extend(list(range(a,b)))   #if range is given then replace it by list\n",
    "                self.tidict[args].append(list(range(a,b))) \n",
    "\n",
    "            else:\n",
    "                try:\n",
    "                    var=str(args)+'-'+str(int(value))              #togenerate name like MA-1,MA-2  \n",
    "\n",
    "                    self.featuredict[args].extend(self.loadfeaturesdata(var))\n",
    "                    \n",
    "                    self.tidict[args].append(self.loadfeaturesdata(var))\n",
    "                except Exception as e:\n",
    "                    print('e1',e)    \n",
    "        \n",
    "        \n",
    "        def funr(row):\n",
    "            r_len=len(row)\n",
    "            ti=row[0]\n",
    "            rowdf=pd.Series(row[1:])\n",
    "            \n",
    "                     \n",
    "            if ti in self.tilist:\n",
    "                self.featuredict[ti]=[]\n",
    "                self.tidict[ti]=[]\n",
    "                self.featurestilist.append(ti)\n",
    "                \n",
    "                rowdf.apply(func,args=(ti,))    #Vectorize function over each element\n",
    "                \n",
    "            elif ti=='label':\n",
    "                self.label.append(row[1])\n",
    "            else:\n",
    "                self.misc.append(row)\n",
    "    \n",
    "                \n",
    "                                                 #vectorize approach to speed up process        \n",
    "        self.features.apply(funr, axis=1)\n",
    "        #print(self.featuredict)                  #To be removed after development\n",
    "        #print(self.features)\n",
    "        #print(\"end\")\n",
    "        \n",
    "        \n",
    "        \n",
    "        #return(self.featurestilist,self.label,self.misc,self.MA_comb)\n",
    "        \n",
    "        \n",
    "        \n",
    "    def get_MA(self,x):\n",
    "        malist=self.featuredict['MA']\n",
    "        for i in malist:\n",
    "            if ('MA'+str(i)) in self.tdf:\n",
    "                continue\n",
    "            else:          \n",
    "                self.tdf['MA'+str(i)]=talib.SMA(self.dataset[x],i)\n",
    "        return(self.tdf)\n",
    "        \n",
    "    def get_RSI(self,x):\n",
    "        rsilist=self.featuredict['RSI']\n",
    "        for i in rsilist:\n",
    "            if ('RSI'+str(i)) in self.tdf:\n",
    "                continue\n",
    "            else:\n",
    "                self.dataset['RSI'+str(i)]=talib.RSI(self.dataset[x],i)\n",
    "        return(self.dataset)\n",
    "        \n",
    "        \n",
    "        \n",
    "    def get_technical_indi(self):\n",
    "        \n",
    "        self.tdf=self.LoadData(stockcsv).loc[:, ['Close']]\n",
    "        for i in self.featurestilist:\n",
    "            if i=='MA':\n",
    "                self.get_MA('Close')\n",
    "            if i=='RSI':\n",
    "                self.get_RSI('Close')\n",
    "                \n",
    "                \n",
    "    def get_return(self):\n",
    "        self.dataset['Daily_Return'] = self.dataset['Close'].pct_change()\n",
    "        \n",
    "        \n",
    "    def get_label(self):\n",
    "        print(\"start\")\n",
    "        print(self.label)\n",
    "        if self.label[0]=='return':\n",
    "            self.get_return()\n",
    "        #print(self.dataset)\n",
    "        #print(self.tdf)\n",
    "        #print(self.tidict)\n",
    "        \n",
    "        \n",
    "        \n",
    "        \n",
    "           \n",
    "    def get_panel_data(self):\n",
    "        self.loadcsv()\n",
    "        self.loadfeatures()\n",
    "        self.get_technical_indi()\n",
    "        self.get_label()\n",
    "        self.ti_Combinations()\n",
    "        return self.paneldict\n",
    "       \n",
    "        \n",
    " \n",
    "\n",
    "            \n",
    "\n",
    "            \n",
    "    \n",
    "    \n",
    "    \n",
    "\n",
    "    \n",
    "    \n",
    "  \n",
    "        \n",
    "        \n",
    "        "
   ]
  },
  {
   "cell_type": "code",
   "execution_count": null,
   "metadata": {},
   "outputs": [],
   "source": []
  },
  {
   "cell_type": "code",
   "execution_count": 4,
   "metadata": {},
   "outputs": [
    {
     "name": "stdout",
     "output_type": "stream",
     "text": [
      "e1 cannot convert float NaN to integer\n",
      "start\n",
      "['return']\n"
     ]
    },
    {
     "name": "stderr",
     "output_type": "stream",
     "text": [
      "C:\\ProgramData\\Anaconda3\\lib\\site-packages\\ipykernel_launcher.py:184: DeprecationWarning: \n",
      "Panel is deprecated and will be removed in a future version.\n",
      "The recommended way to represent these types of 3-dimensional data are with a MultiIndex on a DataFrame, via the Panel.to_frame() method\n",
      "Alternatively, you can use the xarray package http://xarray.pydata.org/en/stable/.\n",
      "Pandas provides a `.to_xarray()` method to help automate this conversion.\n",
      "\n"
     ]
    }
   ],
   "source": [
    "b=ta()\n",
    "train_paneldict=b.get_panel_data()"
   ]
  },
  {
   "cell_type": "code",
   "execution_count": 5,
   "metadata": {},
   "outputs": [],
   "source": [
    "import matplotlib.pyplot as plt\n",
    "from datetime import date\n",
    "import pickle\n"
   ]
  },
  {
   "cell_type": "code",
   "execution_count": 6,
   "metadata": {},
   "outputs": [
    {
     "name": "stdout",
     "output_type": "stream",
     "text": [
      "(1009, 1)\n"
     ]
    },
    {
     "name": "stderr",
     "output_type": "stream",
     "text": [
      "C:\\ProgramData\\Anaconda3\\lib\\site-packages\\ipykernel_launcher.py:3: DeprecationWarning: \n",
      ".ix is deprecated. Please use\n",
      ".loc for label based indexing or\n",
      ".iloc for positional indexing\n",
      "\n",
      "See the documentation here:\n",
      "http://pandas.pydata.org/pandas-docs/stable/indexing.html#ix-indexer-is-deprecated\n",
      "  This is separate from the ipykernel package so we can avoid doing imports until\n"
     ]
    }
   ],
   "source": [
    "dataset_train_a=train_paneldict[(2,4,60)]\n",
    "#print(dataset_train_a)\n",
    "training_set = dataset_train_a.ix[61:,1:2].values\n",
    "\n",
    "#training_set = dataset_train_a.ix[61:,['MA2','MA4','MA60']].values\n",
    "training_set_shape=training_set.shape\n",
    "print(training_set_shape)\n",
    "#print(training_set)\n"
   ]
  },
  {
   "cell_type": "code",
   "execution_count": 7,
   "metadata": {},
   "outputs": [],
   "source": [
    "from sklearn.preprocessing import MinMaxScaler\n",
    "sc = MinMaxScaler(feature_range = (0, 1))\n",
    "training_set_scaled = sc.fit_transform(training_set)\n",
    "z=10"
   ]
  },
  {
   "cell_type": "code",
   "execution_count": 8,
   "metadata": {},
   "outputs": [],
   "source": [
    "X_train = []\n",
    "y_train = []\n",
    "### Need a sleep here."
   ]
  },
  {
   "cell_type": "code",
   "execution_count": 9,
   "metadata": {},
   "outputs": [],
   "source": [
    "for i in range(60,training_set_shape[0]):\n",
    "    #print('i',i)\n",
    "    x=(training_set_scaled[i-60:i, 0])\n",
    "    #print(type(x))\n",
    "    X_train.append(x)\n",
    "    y_train.append(training_set_scaled[i, 0])\n",
    "X_train, y_train = np.array(X_train), np.array(y_train)\n"
   ]
  },
  {
   "cell_type": "code",
   "execution_count": 10,
   "metadata": {},
   "outputs": [],
   "source": [
    "#print(X_train,y_train)\n"
   ]
  },
  {
   "cell_type": "code",
   "execution_count": 11,
   "metadata": {},
   "outputs": [],
   "source": [
    "X_train = np.reshape(X_train, (X_train.shape[0], X_train.shape[1], 1))\n"
   ]
  },
  {
   "cell_type": "code",
   "execution_count": 12,
   "metadata": {},
   "outputs": [
    {
     "name": "stderr",
     "output_type": "stream",
     "text": [
      "C:\\ProgramData\\Anaconda3\\lib\\site-packages\\h5py\\__init__.py:36: FutureWarning: Conversion of the second argument of issubdtype from `float` to `np.floating` is deprecated. In future, it will be treated as `np.float64 == np.dtype(float).type`.\n",
      "  from ._conv import register_converters as _register_converters\n",
      "Using TensorFlow backend.\n"
     ]
    }
   ],
   "source": [
    "# Part 2 - Building the RNN\n",
    "\n",
    "# Importing the Keras libraries and packages\n",
    "from keras.models import Sequential\n",
    "from keras.layers import Dense\n",
    "from keras.layers import LSTM\n",
    "from keras.layers import Dropout"
   ]
  },
  {
   "cell_type": "code",
   "execution_count": 13,
   "metadata": {},
   "outputs": [],
   "source": [
    "# Initialising the RNN\n",
    "regressor = Sequential()\n",
    "\n",
    "# Adding the first LSTM layer and some Dropout regularisation\n",
    "regressor.add(LSTM(units = 50, return_sequences = True, input_shape = (X_train.shape[1], 1)))\n",
    "regressor.add(Dropout(0.2))\n"
   ]
  },
  {
   "cell_type": "code",
   "execution_count": 14,
   "metadata": {},
   "outputs": [],
   "source": [
    "# Adding a second LSTM layer and some Dropout regularisation\n",
    "regressor.add(LSTM(units = 80, return_sequences = True))\n",
    "regressor.add(Dropout(0.2))\n"
   ]
  },
  {
   "cell_type": "code",
   "execution_count": 15,
   "metadata": {},
   "outputs": [],
   "source": [
    "# Adding a third LSTM layer and some Dropout regularisation\n",
    "regressor.add(LSTM(units = 110, return_sequences = True))\n",
    "regressor.add(Dropout(0.2))\n"
   ]
  },
  {
   "cell_type": "code",
   "execution_count": 16,
   "metadata": {},
   "outputs": [],
   "source": [
    "# Adding a fourth LSTM layer and some Dropout regularisation\n",
    "regressor.add(LSTM(units = 140))\n",
    "regressor.add(Dropout(0.2))"
   ]
  },
  {
   "cell_type": "code",
   "execution_count": 17,
   "metadata": {},
   "outputs": [
    {
     "name": "stdout",
     "output_type": "stream",
     "text": [
      "(949, 60, 1) (949,)\n",
      "Epoch 1/20\n",
      "949/949 [==============================] - 13s 14ms/step - loss: 0.1537\n",
      "Epoch 2/20\n",
      "949/949 [==============================] - 9s 9ms/step - loss: 0.0275\n",
      "Epoch 3/20\n",
      "949/949 [==============================] - 8s 9ms/step - loss: 0.0202\n",
      "Epoch 4/20\n",
      "949/949 [==============================] - 9s 9ms/step - loss: 0.0154\n",
      "Epoch 5/20\n",
      "949/949 [==============================] - 9s 9ms/step - loss: 0.0113\n",
      "Epoch 6/20\n",
      "949/949 [==============================] - 9s 9ms/step - loss: 0.0084\n",
      "Epoch 7/20\n",
      "949/949 [==============================] - 8s 9ms/step - loss: 0.0077\n",
      "Epoch 8/20\n",
      "949/949 [==============================] - 9s 10ms/step - loss: 0.0062\n",
      "Epoch 9/20\n",
      "949/949 [==============================] - 8s 9ms/step - loss: 0.0053\n",
      "Epoch 10/20\n",
      "949/949 [==============================] - 8s 9ms/step - loss: 0.0044\n",
      "Epoch 11/20\n",
      "949/949 [==============================] - 9s 9ms/step - loss: 0.0041\n",
      "Epoch 12/20\n",
      "949/949 [==============================] - 8s 9ms/step - loss: 0.0040\n",
      "Epoch 13/20\n",
      "949/949 [==============================] - 8s 9ms/step - loss: 0.0038\n",
      "Epoch 14/20\n",
      "949/949 [==============================] - 8s 9ms/step - loss: 0.0038\n",
      "Epoch 15/20\n",
      "949/949 [==============================] - 8s 9ms/step - loss: 0.0035\n",
      "Epoch 16/20\n",
      "949/949 [==============================] - 8s 9ms/step - loss: 0.0037\n",
      "Epoch 17/20\n",
      "949/949 [==============================] - 8s 9ms/step - loss: 0.0035\n",
      "Epoch 18/20\n",
      "949/949 [==============================] - 8s 9ms/step - loss: 0.0038\n",
      "Epoch 19/20\n",
      "949/949 [==============================] - 9s 9ms/step - loss: 0.0035\n",
      "Epoch 20/20\n",
      "949/949 [==============================] - 8s 9ms/step - loss: 0.0035\n"
     ]
    },
    {
     "data": {
      "text/plain": [
       "<keras.callbacks.History at 0x1ef302fdcc0>"
      ]
     },
     "execution_count": 17,
     "metadata": {},
     "output_type": "execute_result"
    }
   ],
   "source": [
    "# Adding the output layer\n",
    "regressor.add(Dense(units = 1))\n",
    "\n",
    "# Compiling the RNN\n",
    "regressor.compile(optimizer = 'adam', loss = 'mean_squared_error')\n",
    "\n",
    "# Fitting the RNN to the Training set\n",
    "\n",
    "print(X_train.shape,y_train.shape)\n",
    "regressor.fit(X_train, y_train, epochs = 20, batch_size = 200)"
   ]
  },
  {
   "cell_type": "code",
   "execution_count": 19,
   "metadata": {},
   "outputs": [
    {
     "data": {
      "image/png": "[encoded data removed]",
      "text/plain": [
       "<matplotlib.figure.Figure at 0x1ef2bb0f0b8>"
      ]
     },
     "metadata": {},
     "output_type": "display_data"
    },
    {
     "ename": "TypeError",
     "evalue": "can't pickle _thread.RLock objects",
     "output_type": "error",
     "traceback": [
      "\u001b[1;31m---------------------------------------------------------------------------\u001b[0m",
      "\u001b[1;31mTypeError\u001b[0m                                 Traceback (most recent call last)",
      "\u001b[1;32m<ipython-input-19-61c56442450c>\u001b[0m in \u001b[0;36m<module>\u001b[1;34m()\u001b[0m\n\u001b[0;32m     37\u001b[0m \u001b[1;33m\u001b[0m\u001b[0m\n\u001b[0;32m     38\u001b[0m \u001b[0mnsepickel1\u001b[0m \u001b[1;33m=\u001b[0m \u001b[0mopen\u001b[0m\u001b[1;33m(\u001b[0m\u001b[1;34m\"nsepickel1\"\u001b[0m\u001b[1;33m,\u001b[0m\u001b[1;34m'wb'\u001b[0m\u001b[1;33m)\u001b[0m\u001b[1;33m\u001b[0m\u001b[0m\n\u001b[1;32m---> 39\u001b[1;33m \u001b[0mpickle\u001b[0m\u001b[1;33m.\u001b[0m\u001b[0mdump\u001b[0m\u001b[1;33m(\u001b[0m\u001b[0mregressor\u001b[0m \u001b[1;33m,\u001b[0m \u001b[0mnsepickel1\u001b[0m\u001b[1;33m)\u001b[0m\u001b[1;33m\u001b[0m\u001b[0m\n\u001b[0m\u001b[0;32m     40\u001b[0m \u001b[0mnsepickel1\u001b[0m\u001b[1;33m.\u001b[0m\u001b[0mclose\u001b[0m\u001b[1;33m(\u001b[0m\u001b[1;33m)\u001b[0m\u001b[1;33m\u001b[0m\u001b[0m\n",
      "\u001b[1;31mTypeError\u001b[0m: can't pickle _thread.RLock objects"
     ]
    }
   ],
   "source": [
    "# Part 3 - Making the predictions and visualising the results\n",
    "\n",
    "# Getting the real stock price of 2017\n",
    "#dataset_test = pd.read_csv('Google_Stock_Price_Test.csv')\n",
    "\n",
    "#c=ta(stocktest)\n",
    "#train_paneldict=b.get_panel_data()\n",
    "dataset_test  = b.LoadData(stocktest).loc[:, ['Date','Close', 'Volume','Open']]\n",
    "\n",
    "real_stock_price = dataset_test.iloc[:, 1:2].values\n",
    "\n",
    "#print('dataset_train_a',dataset_train_a,'dataset_test',dataset_test)\n",
    "dataset_total = pd.concat((dataset_train_a['Close'], dataset_test['Close']), axis = 0)\n",
    "inputs = dataset_total[len(dataset_total) - len(dataset_test) - 60:].values\n",
    "inputs = inputs.reshape(-1,1)\n",
    "inputs = sc.transform(inputs)\n",
    "X_test = []\n",
    "for i in range(60, 133):\n",
    "    X_test.append(inputs[i-60:i, 0])\n",
    "    \n",
    "X_test = np.array(X_test)\n",
    "\n",
    "X_test = np.reshape(X_test, (X_test.shape[0], X_test.shape[1], 1))\n",
    "predicted_stock_price = regressor.predict(X_test)\n",
    "predicted_stock_price = sc.inverse_transform(predicted_stock_price)\n",
    "\n",
    "# Visualising the results\n",
    "plt.plot(real_stock_price, color = 'red', label = 'Real Nifty  Price')\n",
    "plt.plot(predicted_stock_price, color = 'blue', label = 'Predicted Nifty Stock Price')\n",
    "plt.title('Nifty Stock Price Prediction')\n",
    "plt.xlabel('Time')\n",
    "plt.ylabel('Nifty Stock Price')\n",
    "plt.legend()\n",
    "plt.grid(color='b', linestyle='--', linewidth=1)\n",
    "\n",
    "plt.show()\n",
    "\n",
    "nsepickel1 = open(\"nsepickel1\",'wb')\n",
    "pickle.dump(regressor , nsepickel1)\n",
    "nsepickel1.close()"
   ]
  },
  {
   "cell_type": "code",
   "execution_count": 21,
   "metadata": {},
   "outputs": [
    {
     "ename": "EOFError",
     "evalue": "Ran out of input",
     "output_type": "error",
     "traceback": [
      "\u001b[1;31m---------------------------------------------------------------------------\u001b[0m",
      "\u001b[1;31mEOFError\u001b[0m                                  Traceback (most recent call last)",
      "\u001b[1;32m<ipython-input-21-eb8172f23c75>\u001b[0m in \u001b[0;36m<module>\u001b[1;34m()\u001b[0m\n\u001b[0;32m      1\u001b[0m \u001b[0mf\u001b[0m \u001b[1;33m=\u001b[0m \u001b[0mopen\u001b[0m\u001b[1;33m(\u001b[0m\u001b[1;34m'nsepickel1'\u001b[0m\u001b[1;33m,\u001b[0m \u001b[1;34m'rb'\u001b[0m\u001b[1;33m)\u001b[0m\u001b[1;33m\u001b[0m\u001b[0m\n\u001b[1;32m----> 2\u001b[1;33m \u001b[0mx\u001b[0m \u001b[1;33m=\u001b[0m \u001b[0mpickle\u001b[0m\u001b[1;33m.\u001b[0m\u001b[0mload\u001b[0m\u001b[1;33m(\u001b[0m\u001b[0mf\u001b[0m\u001b[1;33m)\u001b[0m\u001b[1;33m\u001b[0m\u001b[0m\n\u001b[0m\u001b[0;32m      3\u001b[0m \u001b[0mprint\u001b[0m\u001b[1;33m(\u001b[0m\u001b[0mx\u001b[0m\u001b[1;33m)\u001b[0m\u001b[1;33m\u001b[0m\u001b[0m\n",
      "\u001b[1;31mEOFError\u001b[0m: Ran out of input"
     ]
    }
   ],
   "source": [
    "f = open('nsepickel1', 'rb')\n",
    "x = pickle.load(f)\n",
    "print(x)"
   ]
  },
  {
   "cell_type": "code",
   "execution_count": null,
   "metadata": {},
   "outputs": [],
   "source": []
  }
 ],
 "metadata": {
  "kernelspec": {
   "display_name": "Python 3",
   "language": "python",
   "name": "python3"
  },
  "language_info": {
   "codemirror_mode": {
    "name": "ipython",
    "version": 3
   },
   "file_extension": ".py",
   "mimetype": "text/x-python",
   "name": "python",
   "nbconvert_exporter": "python",
   "pygments_lexer": "ipython3",
   "version": "3.6.4"
  }
 },
 "nbformat": 4,
 "nbformat_minor": 2
}
