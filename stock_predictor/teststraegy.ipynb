{
 "cells": [
  {
   "cell_type": "code",
   "execution_count": 1,
   "metadata": {},
   "outputs": [],
   "source": [
    "import test"
   ]
  },
  {
   "cell_type": "code",
   "execution_count": 2,
   "metadata": {},
   "outputs": [
    {
     "name": "stdout",
     "output_type": "stream",
     "text": [
      "strSymbol        index\n",
      "sym              NIFTY\n",
      "expiry       27SEP2018\n",
      "trend                U\n",
      "Strategy           NaN\n",
      "Name: 0, dtype: object\n",
      "strSymbol        index\n",
      "sym              NIFTY\n",
      "expiry       27SEP2018\n",
      "trend                U\n",
      "Strategy           NaN\n",
      "Name: 0, dtype: object\n",
      "strSymbol          STK\n",
      "sym                TCS\n",
      "expiry       27SEP2018\n",
      "trend                U\n",
      "Strategy           NaN\n",
      "Name: 1, dtype: object\n",
      "strSymbol        index\n",
      "sym              NIFTY\n",
      "expiry       25OCT2018\n",
      "trend                U\n",
      "Strategy           NaN\n",
      "Name: 2, dtype: object\n",
      "strSymbol        index\n",
      "sym              NIFTY\n",
      "expiry       29NOV2018\n",
      "trend                U\n",
      "Strategy           NaN\n",
      "Name: 3, dtype: object\n"
     ]
    }
   ],
   "source": [
    "test.start()"
   ]
  },
  {
   "cell_type": "code",
   "execution_count": 3,
   "metadata": {},
   "outputs": [
    {
     "name": "stdout",
     "output_type": "stream",
     "text": [
      "ok\n"
     ]
    }
   ],
   "source": [
    "print('ok')"
   ]
  },
  {
   "cell_type": "code",
   "execution_count": null,
   "metadata": {},
   "outputs": [],
   "source": []
  }
 ],
 "metadata": {
  "kernelspec": {
   "display_name": "Python 3",
   "language": "python",
   "name": "python3"
  },
  "language_info": {
   "codemirror_mode": {
    "name": "ipython",
    "version": 3
   },
   "file_extension": ".py",
   "mimetype": "text/x-python",
   "name": "python",
   "nbconvert_exporter": "python",
   "pygments_lexer": "ipython3",
   "version": "3.6.4"
  }
 },
 "nbformat": 4,
 "nbformat_minor": 2
}
