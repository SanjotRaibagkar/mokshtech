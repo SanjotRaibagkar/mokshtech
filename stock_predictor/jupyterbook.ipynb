{
 "cells": [
  {
   "cell_type": "code",
   "execution_count": 1,
   "metadata": {},
   "outputs": [],
   "source": [
    "import sys"
   ]
  },
  {
   "cell_type": "code",
   "execution_count": 2,
   "metadata": {
    "collapsed": false
   },
   "outputs": [
    {
     "name": "stderr",
     "output_type": "stream",
     "text": [
      "Using TensorFlow backend.\n"
     ]
    }
   ],
   "source": [
    "from stockprediction import exe_predictstock as ex_p"
   ]
  },
  {
   "cell_type": "code",
   "execution_count": 3,
   "metadata": {},
   "outputs": [],
   "source": [
    "from stockprediction import exe_forcaststock as fs"
   ]
  },
  {
   "cell_type": "code",
   "execution_count": null,
   "metadata": {},
   "outputs": [
    {
     "name": "stdout",
     "output_type": "stream",
     "text": [
      "BANKNIFTY\n",
      "startdate 2018-05-26\n",
      "updated data present\n",
      "NIFTY\n",
      "startdate 2018-05-26\n",
      "updated data present\n",
      "TCS\n",
      "startdate 2018-05-26\n",
      "updated data present\n",
      "SYNDIBANK_F1\n",
      "startdate 2007-01-01\n",
      "updated data present\n",
      "AXISBANK\n",
      "startdate 2018-05-26\n",
      "updated data present\n",
      "BANKNIFTY\n",
      "startdate 2018-05-26\n",
      "updated data present\n",
      "X_train.shape, X_test.shape, y_train.shape, y_test.shape, input_scaled.shape, target_scaled.shape, forcast_ip_scaled.shape,DF.shape\n",
      "(1962, 12) (841, 12) (1962, 1) (841, 1) (2803, 12) (2803, 1) (1, 12) (2804, 12)\n",
      "header BANKNIFTY-1-RSI20-BBu_10-BBl-BBs-MA8-MA15-MA13\n",
      "SVR 7.446550173469521e-05\n",
      "TM_MSE : 7.446550173469521e-05 ,TM_RMSE : 0.008629339588560367\n",
      "predict [9204.27]\n",
      "ytest [9135.7]\n",
      "forcast 26361.71\n",
      "forcast_stock_price for 1-D-BANKNIFTY-1-RSI20-BBu_10-BBl-BBs-MA8-MA15-MA13-SVR is [26361.71] for ['2018-05-28T00:00']\n",
      "module 'bokeh.plotting' has no attribute 'grid'\n",
      "BANKNIFTY\n",
      "startdate 2018-05-26\n",
      "updated data present\n",
      "X_train.shape, X_test.shape, y_train.shape, y_test.shape, input_scaled.shape, target_scaled.shape, forcast_ip_scaled.shape,DF.shape\n",
      "(1962, 12) (841, 12) (1962, 1) (841, 1) (2803, 12) (2803, 1) (1, 12) (2804, 12)\n",
      "header BANKNIFTY-1-RSI20-BBu_10-BBl-BBs-MA8-MA15-MA13\n",
      "SVR 7.479639769918223e-05\n",
      "TM_MSE : 7.479639769918223e-05 ,TM_RMSE : 0.008648491064872659\n",
      "predict [15144.2]\n",
      "ytest [15175.9]\n",
      "forcast 26314.65\n",
      "forcast_stock_price for 1-D-BANKNIFTY-1-RSI20-BBu_10-BBl-BBs-MA8-MA15-MA13-SVR is [26314.65] for ['2018-05-28T00:00']\n",
      "module 'bokeh.plotting' has no attribute 'grid'\n",
      "NIFTY\n",
      "startdate 2018-05-26\n",
      "updated data present\n",
      "X_train.shape, X_test.shape, y_train.shape, y_test.shape, input_scaled.shape, target_scaled.shape, forcast_ip_scaled.shape,DF.shape\n",
      "(1962, 12) (841, 12) (1962, 1) (841, 1) (2803, 12) (2803, 1) (1, 12) (2804, 12)\n",
      "header NIFTY-1-RSI20-BBu_10-BBl-BBs-MA8-MA15-MA13\n"
     ]
    }
   ],
   "source": [
    "fs.final_run()"
   ]
  },
  {
   "cell_type": "code",
   "execution_count": null,
   "metadata": {},
   "outputs": [],
   "source": []
  },
  {
   "cell_type": "code",
   "execution_count": null,
   "metadata": {},
   "outputs": [
    {
     "name": "stdout",
     "output_type": "stream",
     "text": [
      "SYNDIBANK_F1\n",
      "startdate 2007-01-01\n",
      "updated data present\n",
      "X_train.shape, X_test.shape, y_train.shape, y_test.shape, input_scaled.shape, target_scaled.shape, forcast_ip_scaled.shape,DF.shape\n",
      "(3448, 12) (1479, 12) (3448, 1) (1479, 1) (4927, 12) (4927, 1) (15, 12) (4942, 12)\n",
      "header SYNDIBANK_F1-15-RSI20-BBu_10-BBl-BBs-MA8-MA15-MA13\n",
      "SVR 0.0015029623181176078\n",
      "TM_MSE : 0.0015029623181176078 ,TM_RMSE : 0.038768057961646826\n",
      "predict [72.3]\n",
      "ytest [71.45]\n",
      "forcast 68.01\n",
      "actual 67.7\n",
      "forcast_stock_price for 15-D-SYNDIBANK_F1-15-RSI20-BBu_10-BBl-BBs-MA8-MA15-MA13-SVR is [68.01, 68.05, 67.92, 68.11, 67.74, 68.03, 67.9, 67.74, 67.51, 67.52, 67.48, 67.49, 67.52, 67.53, 67.56] for ['2016-11-30T15:16' '2016-11-30T15:17' '2016-11-30T15:18'\n",
      " '2016-11-30T15:19' '2016-11-30T15:20' '2016-11-30T15:21'\n",
      " '2016-11-30T15:22' '2016-11-30T15:23' '2016-11-30T15:24'\n",
      " '2016-11-30T15:25' '2016-11-30T15:28' '2016-11-30T15:29'\n",
      " '2016-11-30T15:30' '2016-11-30T15:31' '2016-11-30T16:31']\n",
      "module 'bokeh.plotting' has no attribute 'grid'\n",
      "X_train.shape, X_test.shape, y_train.shape, y_test.shape, input_scaled.shape, target_scaled.shape, forcast_ip_scaled.shape,DF.shape\n",
      "(3468, 12) (1487, 12) (3468, 1) (1487, 1) (4955, 12) (4955, 1) (1, 12) (4956, 12)\n",
      "header SYNDIBANK_F1-1-RSI20-BBu_10-BBl-BBs-MA8-MA15-MA13\n",
      "SVR 0.00012119480049345104\n",
      "TM_MSE : 0.00012119480049345104 ,TM_RMSE : 0.01100885100696031\n",
      "predict [70.3]\n",
      "ytest [70.35]\n",
      "forcast 67.8\n",
      "actual 67.7\n",
      "forcast_stock_price for 1-D-SYNDIBANK_F1-1-RSI20-BBu_10-BBl-BBs-MA8-MA15-MA13-SVR is [67.8] for ['2016-11-30T16:31']\n",
      "module 'bokeh.plotting' has no attribute 'grid'\n",
      "NIFTY\n",
      "startdate 2018-05-26\n",
      "updated data present\n",
      "X_train.shape, X_test.shape, y_train.shape, y_test.shape, input_scaled.shape, target_scaled.shape, forcast_ip_scaled.shape,DF.shape\n",
      "(1941, 12) (833, 12) (1941, 1) (833, 1) (2774, 12) (2774, 1) (15, 12) (2789, 12)\n",
      "header NIFTY-15-RSI20-BBu_10-BBl-BBs-MA8-MA15-MA13\n",
      "SVR 0.0010544145734295322\n",
      "TM_MSE : 0.0010544145734295322 ,TM_RMSE : 0.03247175039060155\n",
      "predict [5712.79]\n",
      "ytest [5635.9]\n",
      "forcast 10597.96\n",
      "actual 10715.5\n",
      "forcast_stock_price for 15-D-NIFTY-15-RSI20-BBu_10-BBl-BBs-MA8-MA15-MA13-SVR is [10597.96, 10671.1, 10641.52, 10596.39, 10574.96, 10567.13, 10606.74, 10611.02, 10571.39, 10484.98, 10574.01, 10714.17, 10618.51, 10572.65, 10505.39] for ['2018-05-07T00:00' '2018-05-08T00:00' '2018-05-09T00:00'\n",
      " '2018-05-10T00:00' '2018-05-11T00:00' '2018-05-14T00:00'\n",
      " '2018-05-15T00:00' '2018-05-16T00:00' '2018-05-17T00:00'\n",
      " '2018-05-18T00:00' '2018-05-21T00:00' '2018-05-22T00:00'\n",
      " '2018-05-23T00:00' '2018-05-24T00:00' '2018-05-25T00:00']\n",
      "module 'bokeh.plotting' has no attribute 'grid'\n",
      "X_train.shape, X_test.shape, y_train.shape, y_test.shape, input_scaled.shape, target_scaled.shape, forcast_ip_scaled.shape,DF.shape\n",
      "(1961, 12) (841, 12) (1961, 1) (841, 1) (2802, 12) (2802, 1) (1, 12) (2803, 12)\n",
      "header NIFTY-1-RSI20-BBu_10-BBl-BBs-MA8-MA15-MA13\n",
      "SVR 9.250142396220901e-05\n",
      "TM_MSE : 9.250142396220901e-05 ,TM_RMSE : 0.009617766058820988\n",
      "predict [5943.59]\n",
      "ytest [5916.4]\n",
      "forcast 10513.93\n",
      "actual 10605.15\n",
      "forcast_stock_price for 1-D-NIFTY-1-RSI20-BBu_10-BBl-BBs-MA8-MA15-MA13-SVR is [10513.93] for ['2018-05-25T00:00']\n",
      "module 'bokeh.plotting' has no attribute 'grid'\n"
     ]
    }
   ],
   "source": [
    "ex_p.exe_predictstock()"
   ]
  }
 ],
 "metadata": {
  "kernelspec": {
   "display_name": "Python 3",
   "language": "python",
   "name": "python3"
  },
  "language_info": {
   "codemirror_mode": {
    "name": "ipython",
    "version": 3
   },
   "file_extension": ".py",
   "mimetype": "text/x-python",
   "name": "python",
   "nbconvert_exporter": "python",
   "pygments_lexer": "ipython3",
   "version": "3.6.4"
  }
 },
 "nbformat": 4,
 "nbformat_minor": 2
}
