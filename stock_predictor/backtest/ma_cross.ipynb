{
 "cells": [
  {
   "cell_type": "code",
   "execution_count": 1,
   "metadata": {},
   "outputs": [],
   "source": [
    "import sys\n"
   ]
  },
  {
   "cell_type": "code",
   "execution_count": 2,
   "metadata": {},
   "outputs": [],
   "source": [
    "from backtest import ma_cross_strategy"
   ]
  },
  {
   "cell_type": "code",
   "execution_count": 3,
   "metadata": {},
   "outputs": [],
   "source": [
    "import datetime\n",
    "import matplotlib.pyplot as plt\n",
    "import numpy as np\n",
    "import pandas as pd\n",
    "\n",
    "from backtest.strategy import Strategy\n",
    "from backtest.portfolio import Portfolio\n",
    "import property as p"
   ]
  },
  {
   "cell_type": "code",
   "execution_count": 4,
   "metadata": {},
   "outputs": [
    {
     "data": {
      "image/png": "[encoded data removed]",
      "text/plain": [
       "<matplotlib.figure.Figure at 0x227c9f66d68>"
      ]
     },
     "metadata": {},
     "output_type": "display_data"
    }
   ],
   "source": [
    "\n",
    "\n",
    "class MovingAverageCrossStrategy(Strategy):\n",
    "    \"\"\"\n",
    "    Requires:\n",
    "    symbol - A stock symbol on which to form a strategy on.\n",
    "    bars - A DataFrame of bars for the above symbol.\n",
    "    short_window - Lookback period for short moving average.\n",
    "    long_window - Lookback period for long moving average.\"\"\"\n",
    "\n",
    "    def __init__(self, symbol, bars, short_window=100, long_window=400):\n",
    "        self.symbol = symbol\n",
    "        self.bars = bars\n",
    "\n",
    "        self.short_window = short_window\n",
    "        self.long_window = long_window\n",
    "\n",
    "    def generate_signals(self):\n",
    "        \"\"\"Returns the DataFrame of symbols containing the signals\n",
    "        to go long, short or hold (1, -1 or 0).\"\"\"\n",
    "        signals = pd.DataFrame(index=self.bars.index)\n",
    "        signals['signal'] = 0.0\n",
    "\n",
    "        # Create the set of short and long simple moving averages over the\n",
    "        # respective periods\n",
    "        signals['short_mavg'] = pd.rolling_mean(bars['Close'], self.short_window, min_periods=1)\n",
    "        signals['long_mavg'] = pd.rolling_mean(bars['Close'], self.long_window, min_periods=1)\n",
    "\n",
    "        # Create a 'signal' (invested or not invested) when the short moving average crosses the long\n",
    "        # moving average, but only for the period greater than the shortest moving average window\n",
    "        signals['signal'][self.short_window:] = np.where(signals['short_mavg'][self.short_window:]\n",
    "                                                         > signals['long_mavg'][self.short_window:], 1.0, 0.0)\n",
    "\n",
    "        # Take the difference of the signals in order to generate actual trading orders\n",
    "        signals['positions'] = signals['signal'].diff()\n",
    "\n",
    "        return signals\n",
    "\n",
    "\n",
    "class MarketOnClosePortfolio(Portfolio):\n",
    "    \"\"\"Encapsulates the notion of a portfolio of positions based\n",
    "    on a set of signals as provided by a Strategy.\n",
    "\n",
    "    Requires:\n",
    "    symbol - A stock symbol which forms the basis of the portfolio.\n",
    "    bars - A DataFrame of bars for a symbol set.\n",
    "    signals - A pandas DataFrame of signals (1, 0, -1) for each symbol.\n",
    "    initial_capital - The amount in cash at the start of the portfolio.\"\"\"\n",
    "\n",
    "    def __init__(self, symbol, bars, signals, initial_capital=100000.0):\n",
    "        self.symbol = symbol\n",
    "        self.bars = bars\n",
    "        self.signals = signals\n",
    "        self.initial_capital = float(initial_capital)\n",
    "        self.positions = self.generate_positions()\n",
    "\n",
    "    def generate_positions(self):\n",
    "        positions = pd.DataFrame(index=signals.index).fillna(0.0)\n",
    "        positions[self.symbol] = 100 * signals['signal']  # This strategy buys 100 shares\n",
    "        return positions\n",
    "\n",
    "    def backtest_portfolio(self):\n",
    "        portfolio = self.positions * self.bars['Close']\n",
    "        pos_diff = self.positions.diff()\n",
    "\n",
    "        portfolio['holdings'] = (self.positions * self.bars['Close']).sum(axis=1)\n",
    "        portfolio['cash'] = self.initial_capital - (pos_diff * self.bars['Close']).sum(axis=1).cumsum()\n",
    "\n",
    "        portfolio['total'] = portfolio['cash'] + portfolio['holdings']\n",
    "        portfolio['returns'] = portfolio['total'].pct_change()\n",
    "        return portfolio\n",
    "\n",
    "\n",
    "import os\n",
    "# Obtain daily bars of AAPL from Yahoo Finance for the period\n",
    "# 1st Jan 1990 to 1st Jan 2002 - This is an example from ZipLine\n",
    "symbol = 'NIFTY'\n",
    "bars = pd.read_csv(os.path.join(p.stockdata,'NIFTY.csv'))\n",
    "\n",
    "# Create a Moving Average Cross Strategy instance with a short moving\n",
    "# average window of 100 days and a long window of 400 days\n",
    "mac = MovingAverageCrossStrategy(symbol, bars, short_window=100, long_window=400)\n",
    "signals = mac.generate_signals()\n",
    "\n",
    "# Create a portfolio of AAPL, with $100,000 initial capital\n",
    "portfolio = MarketOnClosePortfolio(symbol, bars, signals, initial_capital=100000.0)\n",
    "returns = portfolio.backtest_portfolio()\n",
    "\n",
    "# Plot two charts to assess trades and equity curve\n",
    "fig = plt.figure()\n",
    "fig.patch.set_facecolor('white')  # Set the outer colour to white\n",
    "ax1 = fig.add_subplot(211, ylabel='Price in $')\n",
    "\n",
    "# Plot the AAPL closing price overlaid with the moving averages\n",
    "bars['Close'].plot(ax=ax1, color='r', lw=2.)\n",
    "signals[['short_mavg', 'long_mavg']].plot(ax=ax1, lw=2.)\n",
    "\n",
    "# Plot the \"buy\" trades against AAPL\n",
    "ax1.plot(signals.ix[signals.positions == 1.0].index,\n",
    "         signals.short_mavg[signals.positions == 1.0],\n",
    "         '^', markersize=10, color='m')\n",
    "\n",
    "# Plot the \"sell\" trades against AAPL\n",
    "ax1.plot(signals.ix[signals.positions == -1.0].index,\n",
    "         signals.short_mavg[signals.positions == -1.0],\n",
    "         'v', markersize=10, color='k')\n",
    "\n",
    "# Plot the equity curve in dollars\n",
    "ax2 = fig.add_subplot(212, ylabel='Portfolio value in $')\n",
    "returns['total'].plot(ax=ax2, lw=2.)\n",
    "\n",
    "# Plot the \"buy\" and \"sell\" trades against the equity curve\n",
    "ax2.plot(returns.ix[signals.positions == 1.0].index,\n",
    "         returns.total[signals.positions == 1.0],\n",
    "         '^', markersize=10, color='m')\n",
    "ax2.plot(returns.ix[signals.positions == -1.0].index,\n",
    "         returns.total[signals.positions == -1.0],\n",
    "         'v', markersize=10, color='k')\n",
    "\n",
    "# Plot the figure\n",
    "fig.show()\n",
    "\n"
   ]
  },
  {
   "cell_type": "code",
   "execution_count": 5,
   "metadata": {},
   "outputs": [],
   "source": [
    "fig.savefig('test.png')"
   ]
  },
  {
   "cell_type": "code",
   "execution_count": null,
   "metadata": {},
   "outputs": [],
   "source": []
  }
 ],
 "metadata": {
  "kernelspec": {
   "display_name": "Python 3",
   "language": "python",
   "name": "python3"
  },
  "language_info": {
   "codemirror_mode": {
    "name": "ipython",
    "version": 3
   },
   "file_extension": ".py",
   "mimetype": "text/x-python",
   "name": "python",
   "nbconvert_exporter": "python",
   "pygments_lexer": "ipython3",
   "version": "3.6.4"
  }
 },
 "nbformat": 4,
 "nbformat_minor": 1
}
