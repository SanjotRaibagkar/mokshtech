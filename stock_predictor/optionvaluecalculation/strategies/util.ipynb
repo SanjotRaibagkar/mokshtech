{
 "cells": [
  {
   "cell_type": "code",
   "execution_count": 1,
   "id": "fuzzy-capability",
   "metadata": {},
   "outputs": [],
   "source": [
    "import pandas as pd\n",
    "import numpy as np\n",
    "import nsepy \n",
    "import os\n",
    "from datetime import datetime ,date,timedelta\n",
    "import datetime\n",
    "from dateutil.relativedelta import *\n",
    "import matplotlib.pyplot as plt\n",
    "import seaborn as sns\n",
    "\n",
    "pd.set_option('display.max_rows', 300)\n",
    "pd.set_option('display.max_columns', 15)\n",
    "pd.set_option('display.width', 1000)\n",
    "%matplotlib inline\n"
   ]
  },
  {
   "cell_type": "code",
   "execution_count": 2,
   "id": "ahead-magazine",
   "metadata": {},
   "outputs": [],
   "source": [
    "start_date = datetime.date(2021, 1, 1)\n",
    "end_date = datetime.date(2021, 4, 30)\n",
    "symbol = 'BANKNIFTY'"
   ]
  },
  {
   "cell_type": "code",
   "execution_count": 35,
   "id": "incredible-humidity",
   "metadata": {},
   "outputs": [],
   "source": [
    "def getMonthlyExpirtyDate():\n",
    "        local_start_date = start_date\n",
    "        monthly_expirty_Date  =[]\n",
    "        #start_date = datetime.date(2021, 1, 1)\n",
    "        #end_date = datetime.date(2021, 4, 30)\n",
    "        #delta = datetime.timedelta(days=1)\n",
    "        delta = relativedelta(months=+1)\n",
    "        while local_start_date <= end_date:\n",
    "            #print(start_date.year,start_date.month)\n",
    "            #print(str(max(nsepy.get_expiry_date(start_date.year,start_date.month))))\n",
    "\n",
    "            monthly_expirty_Date.append(str(max(nsepy.get_expiry_date(local_start_date.year,local_start_date.month))))\n",
    "            local_start_date += delta\n",
    "        return monthly_expirty_Date\n",
    "    \n",
    "def checkfirstTradyingDayofMonth(first_day_of_the_month,expiry_day):\n",
    "    for i in range(1,6):\n",
    "\n",
    "        nifty_fut = nsepy.get_history(symbol=symbol,\n",
    "                                    start=first_day_of_the_month,\n",
    "                                    end=first_day_of_the_month,\n",
    "                                    index=True,\n",
    "                                    futures=True,\n",
    "                                    expiry_date=expiry_day)\n",
    "        if not nifty_fut.empty :\n",
    "\n",
    "            return first_day_of_the_month\n",
    "        else:\n",
    "            #print(first_day_of_the_month)\n",
    "            #print(type(first_day_of_the_month))\n",
    "            first_day_of_the_month = (first_day_of_the_month+timedelta(days =1))\n",
    "            #print(\"After\",first_day_of_the_month)\n",
    "            #print(type(first_day_of_the_month))\n",
    "\n",
    "def getMonthlyExpirtyFromBahvcopy():\n",
    "    database = \"C:/Users/sanjo/PycharmProjects/mokshtech/stock_predictor/database/optionData\"\n",
    "    print(os.getcwd())\n",
    "    print(os.listdir())\n",
    "    local_start_date = start_date\n",
    "    banknifty = pd.DataFrame()  \n",
    "    monthly_expirty_Date  =[]\n",
    "    delta = relativedelta(years=+1)\n",
    "\n",
    "    try:\n",
    "        while local_start_date <= end_date:\n",
    "            val =0\n",
    "            #print(str(symbol)+str(local_start_date.year)+\".csv\")\n",
    "            filename = str(symbol)+str(local_start_date.year)+\".csv\"\n",
    "            fname = os.path.join(database,filename)\n",
    "            fname_day = os.path.join(database,filename)\n",
    "            df = pd.read_csv(fname)\n",
    "            df = df.loc[df['SYMBOL']== symbol]\n",
    "            df['EXPIRY_DT'] = pd.to_datetime(df['EXPIRY_DT']).dt.date\n",
    "\n",
    "            df = df[df['EXPIRY_DT'] < end_date]\n",
    "            df['EXPIRY_DT'] = pd.to_datetime(df['EXPIRY_DT']).dt.strftime('%Y-%m-%d')\n",
    "            df['EXPIRY_DT_Year_month'] = pd.to_datetime(df['EXPIRY_DT']).dt.strftime('%Y-%m')\n",
    "\n",
    "            df1 = df[['EXPIRY_DT','EXPIRY_DT_Year_month']]\n",
    "\n",
    "            banknifty= banknifty.append(df1)        \n",
    "            local_start_date += delta  \n",
    "    except Exception as error:\n",
    "        print(\"File not found {0}\".format(error)) \n",
    "    banknifty.sort_values(\"EXPIRY_DT\", inplace = True)\n",
    "    banknifty.drop_duplicates(inplace = True)   \n",
    "    #for name , group in banknifty.groupby('EXPIRY_DT_Year_month'):\n",
    "    #print(type(sorted(list(banknifty.groupby('EXPIRY_DT_Year_month').tail(1).EXPIRY_DT))))\n",
    "\n",
    "    option_expiry_date_list = sorted(list(banknifty.groupby('EXPIRY_DT_Year_month').tail(1).EXPIRY_DT))\n",
    "    #option_expiry_date_list =list(zip(*map(banknifty.get, ['EXPIRY_DT_Year_month','EXPIRY_DT'])))\n",
    "    #print(\"option_expiry_date_list\",option_expiry_date_list)\n",
    "\n",
    "    return option_expiry_date_list\n",
    "\n",
    "def cagr(start_value, end_value, num_periods):\n",
    "     if num_periods >1:\n",
    "         return (end_value / start_value) ** (1 / (num_periods - 1)) - 1\n",
    "     else:\n",
    "        return (end_value / start_value)\n",
    "    \n",
    "def getVixData(tradedate):\n",
    "    vix_start_date = datetime.date(2015, 1, 1)\n",
    "    vix = nsepy.get_history(symbol=\"INDIAVIX\",\n",
    "            start=vix_start_date,\n",
    "            end=end_date,\n",
    "            index=True)\n",
    "    vix.dropna(inplace =True)\n",
    "\n",
    "    vix['SMA'] = vix['Close'].rolling(window=20).mean()\n",
    "    vix['date'] = vix.index\n",
    "    #print(vix)\n",
    "    vix['date'] = pd.to_datetime(vix['date'])\n",
    "    \n",
    "    \n",
    "    return vix[vix['date']==tradedate]['SMA'].item()\n",
    "            "
   ]
  },
  {
   "cell_type": "code",
   "execution_count": 4,
   "id": "indie-request",
   "metadata": {},
   "outputs": [
    {
     "name": "stdout",
     "output_type": "stream",
     "text": [
      "C:\\Users\\sanjo\\PycharmProjects\\mokshtech\\stock_predictor\\optionvaluecalculation\\strategies\n",
      "['.ipynb_checkpoints', 'BANKNIFTYmonthly_option_buy_Bhavcopy_Pandl.csv', 'BANKNIFTYmonthly_option_buy_nsepy_Pandl.csv', 'df.csv', 'forwordvolatility.py', 'input.csv', 'monthlyoptionbuying-addingsellleg.ipynb', 'monthlyoptionbuying.ipynb', 'monthy_nifty_option_buy_Bhavcopy_Pandl.csv', 'monthy_nifty_option_buy_nsepy_Pandl.csv', 'NIFTY.csv', 'optionPriceTrendAnalysis.ipynb', 'preDefinedStrategies', 'straddle.py', 'strategies.py', 'util.ipynb', 'util.py', 'weeklyOptionBuy.ipynb', 'weeklyOptionBuy_Selladditon.ipynb', 'weekly_banknifty_option_buy_Pandl.csv', 'weekly_nifty_option_buy_Pandl.csv', '__init__.py']\n"
     ]
    }
   ],
   "source": [
    "expiry_list = getMonthlyExpirtyFromBahvcopy()"
   ]
  },
  {
   "cell_type": "code",
   "execution_count": 5,
   "id": "seeing-maldives",
   "metadata": {},
   "outputs": [],
   "source": [
    "def getMonthlyOptionPriceTrend():\n",
    "    database = \"C:/Users/sanjo/PycharmProjects/mokshtech/stock_predictor/database/optionData\"\n",
    "    print(os.getcwd())\n",
    "    print(os.listdir())\n",
    "    \n",
    "    banknifty = pd.DataFrame()  \n",
    "    monthly_expirty_Date  =[]\n",
    "    delta = relativedelta(years=+1)\n",
    "    local_start_date = start_date\n",
    "    symbol = 'BANKNIFTY'\n",
    "\n",
    "    try:\n",
    "        while local_start_date <= end_date:\n",
    "            val =0\n",
    "            #print(str(symbol)+str(local_start_date.year)+\".csv\")\n",
    "            filename = str(symbol)+str(local_start_date.year)+\".csv\"\n",
    "            fname = os.path.join(database,filename)\n",
    "            fname_day = os.path.join(database,filename)\n",
    "            df = pd.read_csv(fname)\n",
    "            df['Date']=  pd.to_datetime(df['Date'])\n",
    "            df['EXPIRY_DT'] = pd.to_datetime(df['EXPIRY_DT'])\n",
    "            banknifty= banknifty.append(df)        \n",
    "            local_start_date += delta  \n",
    "    except Exception as error:\n",
    "        print(\"File not found {0}\".format(error)) \n",
    "    return banknifty    \n",
    "\n",
    "\n"
   ]
  },
  {
   "cell_type": "code",
   "execution_count": 34,
   "id": "inclusive-envelope",
   "metadata": {},
   "outputs": [
    {
     "name": "stdout",
     "output_type": "stream",
     "text": [
      "2020-01-30 00:00:00\n",
      "               Open   High    Low    Close  Previous  Change  %Change      SMA       date\n",
      "Date                                                                                     \n",
      "2020-01-30  16.4975  17.14  15.38  16.7975   16.4975     0.3   0.0182  15.1615 2020-01-30\n"
     ]
    },
    {
     "data": {
      "text/plain": [
       "Date\n",
       "2020-01-30    15.1615\n",
       "Name: SMA, dtype: float64"
      ]
     },
     "execution_count": 34,
     "metadata": {},
     "output_type": "execute_result"
    }
   ],
   "source": [
    "current_expiry_date= \"2020-01-30\"\n",
    "expiry_day = datetime.datetime.strptime(current_expiry_date,'%Y-%m-%d')\n",
    "print(expiry_day)\n",
    "getVixData(expiry_day)"
   ]
  },
  {
   "cell_type": "raw",
   "id": "later-ultimate",
   "metadata": {},
   "source": []
  },
  {
   "cell_type": "code",
   "execution_count": null,
   "id": "finished-liberal",
   "metadata": {},
   "outputs": [],
   "source": []
  }
 ],
 "metadata": {
  "kernelspec": {
   "display_name": "Python 3",
   "language": "python",
   "name": "python3"
  },
  "language_info": {
   "codemirror_mode": {
    "name": "ipython",
    "version": 3
   },
   "file_extension": ".py",
   "mimetype": "text/x-python",
   "name": "python",
   "nbconvert_exporter": "python",
   "pygments_lexer": "ipython3",
   "version": "3.8.8"
  }
 },
 "nbformat": 4,
 "nbformat_minor": 5
}
