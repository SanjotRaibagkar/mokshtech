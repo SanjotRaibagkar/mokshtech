{
 "cells": [
  {
   "cell_type": "code",
   "execution_count": 1,
   "id": "material-disability",
   "metadata": {},
   "outputs": [
    {
     "name": "stderr",
     "output_type": "stream",
     "text": [
      "C:\\ProgramData\\Anaconda3\\envs\\mokshtech\\lib\\site-packages\\IPython\\nbformat.py:12: ShimWarning: The `IPython.nbformat` package has been deprecated since IPython 4.0. You should import from nbformat instead.\n",
      "  warn(\"The `IPython.nbformat` package has been deprecated since IPython 4.0. \"\n",
      "C:\\ProgramData\\Anaconda3\\envs\\mokshtech\\lib\\site-packages\\nbformat\\current.py:15: UserWarning: nbformat.current is deprecated.\n",
      "\n",
      "- use nbformat for read/write/validate public API\n",
      "- use nbformat.vX directly to composing notebooks of a particular version\n",
      "\n",
      "  warnings.warn(\"\"\"nbformat.current is deprecated.\n"
     ]
    }
   ],
   "source": [
    "import io\n",
    "from IPython.nbformat import current\n",
    "\n",
    "def execute_notebook(nbfile):\n",
    "    \n",
    "    with io.open(nbfile) as f:\n",
    "        nb = current.read(f, 'json')\n",
    "    \n",
    "    ip = get_ipython()\n",
    "    \n",
    "    for cell in nb.worksheets[0].cells:\n",
    "        if cell.cell_type != 'code':\n",
    "            continue\n",
    "        ip.run_cell(cell.input)\n"
   ]
  },
  {
   "cell_type": "code",
   "execution_count": 2,
   "id": "theoretical-lebanon",
   "metadata": {},
   "outputs": [
    {
     "name": "stdout",
     "output_type": "stream",
     "text": [
      "C:\\Users\\sanjo\\PycharmProjects\\mokshtech\\stock_predictor\\optionvaluecalculation\\strategies\n",
      "['.ipynb_checkpoints', 'BANKNIFTYmonthly_option_buy_Bhavcopy_Pandl.csv', 'BANKNIFTYmonthly_option_buy_nsepy_Pandl.csv', 'df.csv', 'forwordvolatility.py', 'input.csv', 'monthlyoptionbuying-addingsellleg.ipynb', 'monthlyoptionbuying.ipynb', 'monthy_nifty_option_buy_Bhavcopy_Pandl.csv', 'monthy_nifty_option_buy_nsepy_Pandl.csv', 'NIFTY.csv', 'optionPriceTrendAnalysis.ipynb', 'preDefinedStrategies', 'straddle.py', 'strategies.py', 'util.ipynb', 'util.py', 'weeklyOptionBuy.ipynb', 'weeklyOptionBuy_Selladditon.ipynb', 'weekly_banknifty_option_buy_Pandl.csv', 'weekly_nifty_option_buy_Pandl.csv', '__init__.py']\n",
      "2020-01-30 00:00:00\n"
     ]
    },
    {
     "data": {
      "text/plain": [
       "15.161499999999998"
      ]
     },
     "execution_count": 2,
     "metadata": {},
     "output_type": "execute_result"
    }
   ],
   "source": [
    "execute_notebook(\"util.ipynb\")\n"
   ]
  },
  {
   "cell_type": "code",
   "execution_count": null,
   "id": "demographic-notification",
   "metadata": {},
   "outputs": [],
   "source": []
  },
  {
   "cell_type": "code",
   "execution_count": 3,
   "id": "ultimate-disease",
   "metadata": {},
   "outputs": [],
   "source": [
    "    def monthlyOptionBuyusingNsePy():\n",
    "        print(os.getcwd())\n",
    "        print(os.listdir())\n",
    "\n",
    "        banknifty = pd.DataFrame()\n",
    "        formatted_banknifyt_df = pd.DataFrame(['Year_month','P&L'])\n",
    "        month_profit_loss = pd.DataFrame()\n",
    "\n",
    "        delta = relativedelta(years=+1)\n",
    "        #monthly_expirty_date =getMonthlyExpirtyFromBahvcopy()\n",
    "        #monthly_expirty_date = getMonthlyExpirtyDate()\n",
    "        #print(\"monthly_expirty_date\",monthly_expirty_date)\n",
    "        year_month_list =[]\n",
    "        p_N_L_list =[]\n",
    "        cum_p_N_L_list =[]\n",
    "        slipage = 5\n",
    "        P_N_L_dic =  {}\n",
    "        # code using nsepy to make sure its bhavcopy is giving matching result\n",
    "\n",
    "        banknifty = pd.DataFrame()\n",
    "        tradebook = TradeBook()\n",
    "        for current_expiry_date in  expiry_list:\n",
    "            print(current_expiry_date)\n",
    "            try:\n",
    "                val =0\n",
    "                expiry_day = datetime.datetime.strptime(current_expiry_date,'%Y-%m-%d')\n",
    "                today_date =datetime.datetime.strptime( str(date.today()),'%Y-%m-%d')\n",
    "                if expiry_day < today_date:\n",
    "                    #print(expiry_day)\n",
    "                    first_day_of_the_month = expiry_day.replace(day=1)\n",
    "                    first_day_of_the_month =checkfirstTradyingDayofMonth(first_day_of_the_month,expiry_day)\n",
    "                    #print(first_day_of_the_month)\n",
    "                    nifty_fut = nsepy.get_history(symbol=symbol,\n",
    "                                        start=first_day_of_the_month,\n",
    "                                        end=first_day_of_the_month,\n",
    "                                        index=True,\n",
    "                                        futures=True,\n",
    "                                        expiry_date=expiry_day)\n",
    "                    strike_price = (nifty_fut['Open']- (nifty_fut['Open'])%100).astype(float).min()\n",
    "                    #print(strike_price)\n",
    "                    fifteen_day_of_the_month = expiry_day.replace(day=15)\n",
    "                    #print(\"fifteen_day_of_the_month\",fifteen_day_of_the_month)\n",
    "\n",
    "                    fifteen_day_of_the_month =checkfirstTradyingDayofMonth(fifteen_day_of_the_month,expiry_day)\n",
    "                    fifteen_day_of_the_month =expiry_day\n",
    "\n",
    "                    buy_opt_ce = nsepy.get_history(symbol=symbol,\n",
    "                                        start=first_day_of_the_month,\n",
    "                                        end=first_day_of_the_month,\n",
    "                                        index=True,\n",
    "                                        option_type='CE',\n",
    "                                        strike_price=strike_price,\n",
    "                                        expiry_date=expiry_day)\n",
    "\n",
    "\n",
    "\n",
    "\n",
    "                    buy_opt_pe = nsepy.get_history(symbol=symbol,\n",
    "                                        start=first_day_of_the_month,\n",
    "                                        end=first_day_of_the_month,\n",
    "                                        index=True,\n",
    "                                        option_type='PE',\n",
    "                                        strike_price=strike_price,\n",
    "                                        expiry_date=expiry_day)\n",
    "                   \n",
    "\n",
    "                    sell_opt_ce = nsepy.get_history(symbol=symbol,\n",
    "                                        start=fifteen_day_of_the_month,\n",
    "                                        end=fifteen_day_of_the_month,\n",
    "                                        index=True,\n",
    "                                        option_type='CE',\n",
    "                                        strike_price=strike_price,\n",
    "                                        expiry_date=expiry_day)\n",
    "                    sell_opt_pe = nsepy.get_history(symbol=symbol,\n",
    "                                        start=fifteen_day_of_the_month,\n",
    "                                        end=fifteen_day_of_the_month,\n",
    "                                        index=True,\n",
    "                                        option_type='PE',\n",
    "                                        strike_price=strike_price,\n",
    "                                        expiry_date=expiry_day)\n",
    "                    \n",
    "                    vixsma= getVixData(first_day_of_the_month)\n",
    "                    strikeadditon =500\n",
    "                    if vixsma> 15:\n",
    "                        strikeadditon =1000\n",
    "                    \n",
    "                    \n",
    "                    add_leg_opt_pe_sell = nsepy.get_history(symbol=symbol,\n",
    "                                        start=first_day_of_the_month,\n",
    "                                        end=first_day_of_the_month,\n",
    "                                        index=True,\n",
    "                                        option_type='PE',\n",
    "                                        strike_price=strike_price-strikeadditon,\n",
    "                                        expiry_date=expiry_day)\n",
    "                    add_leg_opt_pe_buy = nsepy.get_history(symbol=symbol,\n",
    "                                        start=fifteen_day_of_the_month,\n",
    "                                        end=fifteen_day_of_the_month,\n",
    "                                        index=True,\n",
    "                                        option_type='PE',\n",
    "                                        strike_price=strike_price-strikeadditon,\n",
    "                                        expiry_date=expiry_day)\n",
    "                    add_leg_opt_ce_sell = nsepy.get_history(symbol=symbol,\n",
    "                                        start=first_day_of_the_month,\n",
    "                                        end=first_day_of_the_month,\n",
    "                                        index=True,\n",
    "                                        option_type='CE',\n",
    "                                        strike_price=strike_price+strikeadditon,\n",
    "                                        expiry_date=expiry_day)\n",
    "                    add_leg_opt_ce_buy = nsepy.get_history(symbol=symbol,\n",
    "                                        start=fifteen_day_of_the_month,\n",
    "                                        end=fifteen_day_of_the_month,\n",
    "                                        index=True,\n",
    "                                        option_type='CE',\n",
    "                                        strike_price=strike_price+strikeadditon,\n",
    "                                        expiry_date=expiry_day)\n",
    "\n",
    "\n",
    "                    tradebook.addTradeLeg(buy_opt_ce,1,True)\n",
    "                    tradebook.addTradeLeg(sell_opt_ce,1,True)\n",
    "                    tradebook.addTradeLeg(buy_opt_pe,2,True)\n",
    "                    tradebook.addTradeLeg(sell_opt_pe,2,True)\n",
    "                    tradebook.addTradeLeg(add_leg_opt_pe_sell,3,False)\n",
    "                    tradebook.addTradeLeg(add_leg_opt_pe_buy,3,False)\n",
    "                    tradebook.addTradeLeg(add_leg_opt_ce_sell,4,False)\n",
    "                    tradebook.addTradeLeg(add_leg_opt_ce_buy,4,False)\n",
    "\n",
    "\n",
    "                    \n",
    "\n",
    "            except Exception as error:\n",
    "                print(\"File not found {0}\".format(error))\n",
    "       \n",
    "        tradebook.printTradeBook()\n",
    "        tradebook.calcualteMonthProfitLoss()\n",
    "        #print(tradebook.month_profit_loss.Total_PandL.sum())\n",
    "        #print(month_profit_loss.Total_PandL)\n",
    "        #print(tradebook.month_profit_loss.groupby('Sell_date').agg({'Total_PandL' :sum}))\n",
    "        month_profit_loss=tradebook.month_profit_loss\n",
    "        return month_profit_loss\n",
    "\n"
   ]
  },
  {
   "cell_type": "code",
   "execution_count": 4,
   "id": "bigger-recovery",
   "metadata": {
    "scrolled": true
   },
   "outputs": [
    {
     "name": "stdout",
     "output_type": "stream",
     "text": [
      "C:\\Users\\sanjo\\PycharmProjects\\mokshtech\\stock_predictor\\optionvaluecalculation\\strategies\n",
      "['.ipynb_checkpoints', 'BANKNIFTYmonthly_option_buy_Bhavcopy_Pandl.csv', 'BANKNIFTYmonthly_option_buy_nsepy_Pandl.csv', 'df.csv', 'forwordvolatility.py', 'input.csv', 'monthlyoptionbuying-addingsellleg.ipynb', 'monthlyoptionbuying.ipynb', 'monthy_nifty_option_buy_Bhavcopy_Pandl.csv', 'monthy_nifty_option_buy_nsepy_Pandl.csv', 'NIFTY.csv', 'optionPriceTrendAnalysis.ipynb', 'preDefinedStrategies', 'straddle.py', 'strategies.py', 'util.ipynb', 'util.py', 'weeklyOptionBuy.ipynb', 'weeklyOptionBuy_Selladditon.ipynb', 'weekly_banknifty_option_buy_Pandl.csv', 'weekly_nifty_option_buy_Pandl.csv', '__init__.py']\n",
      "2021-01-28\n",
      "2021-02-25\n",
      "2021-03-25\n",
      "2021-04-29\n",
      "printing tradebook-Long\n",
      "               Symbol      Expiry Option Type  Strike Price     Open     High      Low  ...  Number of Contracts      Turnover  Premium Turnover  Open Interest  Change in OI  Underlying  Match_Id\n",
      "Date                                                                                    ...                                                                                                        \n",
      "2021-01-01  BANKNIFTY  2021-01-28          CE       31200.0  1008.20  1080.65   892.85  ...                  667  5.363850e+08        16125000.0          23775          1250    31225.85         1\n",
      "2021-01-28  BANKNIFTY  2021-01-28          CE       31200.0     4.90     9.80     0.10  ...               289048  2.254871e+11        29681000.0         320650       -311300    30358.30         1\n",
      "2021-01-01  BANKNIFTY  2021-01-28          PE       31200.0   938.35   938.35   773.10  ...                 1329  1.064027e+09        27407000.0          16875          2550    31225.85         2\n",
      "2021-01-28  BANKNIFTY  2021-01-28          PE       31200.0  1310.80  1514.05   794.70  ...                 4140  3.352359e+09       123159000.0          38825        -36050    30358.30         2\n",
      "2021-02-01  BANKNIFTY  2021-02-25          CE       30900.0  1136.30  2649.65  1017.65  ...                  998  8.040470e+08        33092000.0           3850         -1575         NaN         1\n",
      "2021-02-25  BANKNIFTY  2021-02-25          CE       30900.0  6091.05  6309.05  5814.75  ...                   15  1.385000e+07         2263000.0           1325          -250    36549.00         1\n",
      "2021-02-01  BANKNIFTY  2021-02-25          PE       30900.0   961.50  1002.40   185.25  ...                 2456  1.926672e+09        29412000.0          11375          8200         NaN         2\n",
      "2021-02-25  BANKNIFTY  2021-02-25          PE       30900.0     2.65     2.65     0.10  ...                  277  2.139870e+08            5000.0           4375         -1625    36549.00         2\n",
      "2021-03-01  BANKNIFTY  2021-03-25          CE       35300.0  1193.80  1382.40  1090.00  ...                 1975  1.803606e+09        60669000.0          13200          3875         NaN         1\n",
      "2021-03-25  BANKNIFTY  2021-03-25          CE       35300.0     5.70     5.70     0.05  ...                66435  5.863269e+10         3801000.0          86425        -56450         NaN         1\n",
      "2021-03-01  BANKNIFTY  2021-03-25          PE       35300.0  1258.85  1403.30  1071.30  ...                 2046  1.868214e+09        62619000.0          25525          5975         NaN         2\n",
      "2021-03-25  BANKNIFTY  2021-03-25          PE       35300.0  2037.15  2810.00  1720.85  ...                  816  7.687470e+08        48627000.0          11600         -4975         NaN         2\n",
      "\n",
      "[12 rows x 17 columns]\n",
      "printing tradebook-Short\n",
      "               Symbol      Expiry Option Type  Strike Price     Open     High      Low  ...  Number of Contracts      Turnover  Premium Turnover  Open Interest  Change in OI  Underlying  Match_Id\n",
      "Date                                                                                    ...                                                                                                        \n",
      "2021-01-01  BANKNIFTY  2021-01-28          PE       30200.0   513.00   513.00   403.95  ...                  205  1.570420e+08      2.267000e+06           2975           675    31225.85         3\n",
      "2021-01-28  BANKNIFTY  2021-01-28          PE       30200.0   349.00   565.55     0.05  ...              1016891  7.714207e+11      3.668022e+09         452050        157125    30358.30         3\n",
      "2021-01-01  BANKNIFTY  2021-01-28          CE       32200.0   591.70   601.10   470.00  ...                  267  2.183840e+08      3.449000e+06           3975          1700    31225.85         4\n",
      "2021-01-28  BANKNIFTY  2021-01-28          CE       32200.0     7.15     7.15     0.05  ...                58466  4.706799e+10      2.857000e+06         181525       -151750    30358.30         4\n",
      "2021-02-01  BANKNIFTY  2021-02-25          PE       29900.0   566.85   605.60   108.80  ...                  557  4.197830e+08      3.426000e+06           5725          3000         NaN         3\n",
      "2021-02-25  BANKNIFTY  2021-02-25          PE       29900.0     1.90     1.90     0.10  ...                  324  2.421960e+08      6.000000e+03           4975          1600    36549.00         3\n",
      "2021-02-01  BANKNIFTY  2021-02-25          CE       31900.0   638.35  1930.50   544.90  ...                 1605  1.319184e+09      3.919600e+07           5575          -975         NaN         4\n",
      "2021-02-25  BANKNIFTY  2021-02-25          CE       31900.0  5167.10  5181.90  4630.00  ...                  121  1.107300e+08      1.423200e+07           1225         -2275    36549.00         4\n",
      "2021-03-01  BANKNIFTY  2021-03-25          PE       34300.0   760.20   934.05   692.80  ...                  867  7.607560e+08      1.730400e+07           4100          2375         NaN         3\n",
      "2021-03-25  BANKNIFTY  2021-03-25          PE       34300.0  1134.70  1828.90   717.95  ...                 1620  1.440215e+09      5.106500e+07          20775         -7550         NaN         3\n",
      "2021-03-01  BANKNIFTY  2021-03-25          CE       36300.0   864.60   881.70   679.10  ...                  974  9.030930e+08      1.918800e+07           4150           625         NaN         4\n",
      "2021-03-25  BANKNIFTY  2021-03-25          CE       36300.0     3.55     3.55     0.05  ...                21051  1.910481e+10      1.024000e+06          45025       -117375         NaN         4\n",
      "\n",
      "[12 rows x 17 columns]\n"
     ]
    },
    {
     "data": {
      "image/png": "[encoded data removed]",
      "text/plain": [
       "<Figure size 432x288 with 1 Axes>"
      ]
     },
     "metadata": {
      "needs_background": "light"
     },
     "output_type": "display_data"
    }
   ],
   "source": [
    "\n",
    "    month_profit_loss_main =monthlyOptionBuyusingNsePy()\n",
    "    \n",
    "    #print(month_profit_loss_main)\n",
    "    \n",
    "    month_profit_loss= month_profit_loss_main.groupby('Sell_date').agg({'Total_PandL' :sum})\n",
    "    #print(\"----Monthly---------\")\n",
    "    #print(month_profit_loss)\n",
    "    plt.xticks(rotation=45)\n",
    "    month_profit_loss['Cum_PandL'] = month_profit_loss['Total_PandL'].cumsum()\n",
    "    #print(\"----Monthly After cumsum---------\")\n",
    "    #print(month_profit_loss)\n",
    "    plt.plot(month_profit_loss.index , month_profit_loss['Cum_PandL'])\n",
    "    plt.show()\n",
    "    pandlFile =str(symbol)+\"monthly_option_buy_nsepy_Pandl.csv\"\n",
    "    month_profit_loss.to_csv(pandlFile)"
   ]
  },
  {
   "cell_type": "code",
   "execution_count": 5,
   "id": "conventional-embassy",
   "metadata": {
    "scrolled": true
   },
   "outputs": [
    {
     "name": "stdout",
     "output_type": "stream",
     "text": [
      "Year_month\n",
      "2021   -14946.35\n",
      "Name: Total_PandL_for_all_contracts, dtype: float64\n",
      "1\n",
      "-3.74%\n"
     ]
    }
   ],
   "source": [
    "amount = 400000\n",
    "sellonelotamountperunit = 1000\n",
    "\n",
    "\n",
    "month_profit_loss_main[\"amount_to_invest\"] = amount\n",
    "test =dict()\n",
    "forTest = month_profit_loss_main\n",
    "\n",
    "month_profit_loss_group= month_profit_loss_main.groupby(['Sell_date','Trade_Type'])\n",
    "for name , group in month_profit_loss_group:\n",
    "    #print(name[1])\n",
    "    #print(group)\n",
    "    if name[1]=='Long':\n",
    "       \n",
    "        #print (\"in long\")\n",
    "        totalprice = group['Buy_Price'].sum()\n",
    "        #print(totalprice)\n",
    "        #print(\"Totalunit\",int(amount/(totalprice+sellonelotamountperunit)))\n",
    "        test.update({name[0]:[name[0],int(amount/(totalprice+sellonelotamountperunit))]})\n",
    "             \n",
    "#print(test)\n",
    "test1 =pd.DataFrame(test)\n",
    "test1= test1.transpose()\n",
    "test1.columns = ['Sell_date','Units']\n",
    "\n",
    "\n",
    "month_profit_loss_main =pd.merge(month_profit_loss_main, test1, on = 'Sell_date', how = \"outer\")\n",
    "#print(month_profit_loss_main)\n",
    "\n",
    "\n",
    "#month_profit_loss_main[\"Total_PandL_for_all_contracts\"] = month_profit_loss_main.apply(lambda x: (x.Total_PandL*x.Units*sellonelotamountperunit)if x.Trade_Type=='Short' else (x.Total_PandL*x.Units), axis=1)\n",
    "month_profit_loss_main[\"Total_PandL_for_all_contracts\"] = month_profit_loss_main.apply(lambda x:x.Total_PandL*x.Units, axis=1)\n",
    "#print(\"Total\")\n",
    "#print(month_profit_loss_main)\n",
    "#print(month_profit_loss_main[\"Total_PandL_for_all_contracts\"].sum().astype(float))\n",
    "\n",
    "month_profit_loss_main['Year_month'] = pd.to_datetime(month_profit_loss_main['Sell_date']).dt.strftime('%Y')\n",
    "print(month_profit_loss_main.groupby('Year_month')[\"Total_PandL_for_all_contracts\"].sum().astype(float))\n",
    "print(len(month_profit_loss_main.groupby('Year_month')))\n",
    "result =cagr(amount,month_profit_loss_main[\"Total_PandL_for_all_contracts\"].sum().astype(float),len(month_profit_loss_main.groupby('Year_month')))\n",
    "print(\"{:.2%}\".format(result))\n",
    "\n",
    "\n"
   ]
  },
  {
   "cell_type": "markdown",
   "id": "conscious-luther",
   "metadata": {},
   "source": [
    "\n",
    "NIFTY2021.csv\n",
    "Strile price is  14000\n",
    "0.2 310.0 186.4 299.75\n",
    "pandl -423.15 21.1575\n",
    "pandl -444.3075\n",
    "Strile price is  13700\n",
    "1400.35 461.65 0.1 330.25\n",
    "pandl 608.55 30.4275\n",
    "pandl 578.1225\n",
    "inlistelse  0\n",
    "Strile price is  14700\n",
    "0.15 388.5 358.9 422.2\n",
    "pandl -451.65000000000003 22.5825\n",
    "pandl -474.2325\n",
    "inlistelse  -444.3075\n",
    "Strile price is  14800\n",
    "140.3 335.7 292.05 282.7\n",
    "pandl -186.04999999999995 9.302499999999998\n",
    "pandl -195.35249999999996\n",
    "inlistelse  133.81499999999994\n",
    "r C:/Users/sanjo/PycharmProjects/mokshtech/stock_predictor/database/optionData\\NIFTY2021.csv\n",
    "[-444.3075, 578.1225, -474.2325, -195.35249999999996]\n",
    "[-444.3075, 133.81499999999994, -340.4175000000001, -535.77]\n",
    "\n",
    "2021-01-28 00:00:00\n",
    "2021-01-01 00:00:00\n",
    "14000.0\n",
    "0.2 310.0 186.4 299.75\n",
    "pandl -444.3075\n",
    "2021-02-25 00:00:00\n",
    "2021-02-01 00:00:00\n",
    "13700.0\n",
    "1400.35 461.65 0.1 330.25\n",
    "pandl 578.1225\n",
    "inlistelse  0\n",
    "2021-03-25 00:00:00\n",
    "2021-03-01 00:00:00\n",
    "14700.0\n",
    "0.15 388.5 358.9 422.2\n",
    "pandl -474.2325\n",
    "inlistelse  0\n",
    "2021-04-29 00:00:00\n",
    "2021-04-01 00:00:00\n",
    "14800.0\n",
    "File not found positional indexers are out-of-bounds\n",
    "[-444.3075, 578.1225, -474.2325]\n",
    "[-444.3075, 133.81499999999994, -340.4175000000001]\n"
   ]
  },
  {
   "cell_type": "code",
   "execution_count": 6,
   "id": "billion-twins",
   "metadata": {},
   "outputs": [
    {
     "data": {
      "text/html": [
       "<div>\n",
       "<style scoped>\n",
       "    .dataframe tbody tr th:only-of-type {\n",
       "        vertical-align: middle;\n",
       "    }\n",
       "\n",
       "    .dataframe tbody tr th {\n",
       "        vertical-align: top;\n",
       "    }\n",
       "\n",
       "    .dataframe thead th {\n",
       "        text-align: right;\n",
       "    }\n",
       "</style>\n",
       "<table border=\"1\" class=\"dataframe\">\n",
       "  <thead>\n",
       "    <tr style=\"text-align: right;\">\n",
       "      <th></th>\n",
       "      <th>Buy_date</th>\n",
       "      <th>Sell_date</th>\n",
       "      <th>Strike_price</th>\n",
       "      <th>Buy_Price</th>\n",
       "      <th>Sell_Price</th>\n",
       "      <th>Trade_Type</th>\n",
       "      <th>Option Type</th>\n",
       "      <th>Total_PandL</th>\n",
       "      <th>amount_to_invest</th>\n",
       "      <th>Units</th>\n",
       "      <th>Total_PandL_for_all_contracts</th>\n",
       "      <th>Year_month</th>\n",
       "    </tr>\n",
       "  </thead>\n",
       "  <tbody>\n",
       "    <tr>\n",
       "      <th>4</th>\n",
       "      <td>2021-02-01</td>\n",
       "      <td>2021-02-25</td>\n",
       "      <td>30900.0</td>\n",
       "      <td>1136.3</td>\n",
       "      <td>5814.75</td>\n",
       "      <td>Long</td>\n",
       "      <td>CE</td>\n",
       "      <td>4678.45</td>\n",
       "      <td>400000</td>\n",
       "      <td>129</td>\n",
       "      <td>603520.05</td>\n",
       "      <td>2021</td>\n",
       "    </tr>\n",
       "  </tbody>\n",
       "</table>\n",
       "</div>"
      ],
      "text/plain": [
       "     Buy_date   Sell_date  Strike_price  Buy_Price  Sell_Price Trade_Type Option Type  Total_PandL  amount_to_invest Units  Total_PandL_for_all_contracts Year_month\n",
       "4  2021-02-01  2021-02-25       30900.0     1136.3     5814.75       Long          CE      4678.45            400000   129                      603520.05       2021"
      ]
     },
     "execution_count": 6,
     "metadata": {},
     "output_type": "execute_result"
    }
   ],
   "source": [
    "month_profit_loss_main.loc[month_profit_loss_main[\"Total_PandL_for_all_contracts\"] ==month_profit_loss_main[\"Total_PandL_for_all_contracts\"].max()]"
   ]
  },
  {
   "cell_type": "code",
   "execution_count": 7,
   "id": "copyrighted-stress",
   "metadata": {},
   "outputs": [
    {
     "data": {
      "image/png": "[encoded data removed]",
      "text/plain": [
       "<Figure size 432x288 with 1 Axes>"
      ]
     },
     "metadata": {
      "needs_background": "light"
     },
     "output_type": "display_data"
    }
   ],
   "source": [
    "plt.hist(month_profit_loss_main[\"Total_PandL_for_all_contracts\"], edgecolor=\"red\", bins=10)\n",
    "plt.show()"
   ]
  },
  {
   "cell_type": "code",
   "execution_count": 8,
   "id": "twenty-scotland",
   "metadata": {},
   "outputs": [
    {
     "data": {
      "text/plain": [
       "-148.54999999999995"
      ]
     },
     "execution_count": 8,
     "metadata": {},
     "output_type": "execute_result"
    }
   ],
   "source": [
    " month_profit_loss_main['Total_PandL'].sum()"
   ]
  },
  {
   "cell_type": "code",
   "execution_count": 9,
   "id": "empty-imaging",
   "metadata": {},
   "outputs": [
    {
     "name": "stdout",
     "output_type": "stream",
     "text": [
      "Today's date: 2021-04-24\n"
     ]
    }
   ],
   "source": [
    "today = str(date.today())\n",
    "print(\"Today's date:\", today)\n"
   ]
  },
  {
   "cell_type": "code",
   "execution_count": 10,
   "id": "seventh-retirement",
   "metadata": {},
   "outputs": [
    {
     "name": "stdout",
     "output_type": "stream",
     "text": [
      "262710\n",
      "135000\n",
      "1.8\n",
      "135000.0\n"
     ]
    }
   ],
   "source": [
    "unit = 135\n",
    "print(1946*unit)\n",
    "print(1000*unit)\n",
    "print(unit/75)\n",
    "print(unit/75*75000)\n"
   ]
  },
  {
   "cell_type": "code",
   "execution_count": 11,
   "id": "nonprofit-sullivan",
   "metadata": {},
   "outputs": [
    {
     "name": "stdout",
     "output_type": "stream",
     "text": [
      "Y_M      Trade_Type\n",
      "2021-01  Long         -155486.25\n",
      "         Short         147480.75\n",
      "2021-02  Long          479499.45\n",
      "         Short        -448881.30\n",
      "2021-03  Long          -84151.25\n",
      "         Short          46592.25\n",
      "Name: Total_PandL_for_all_contracts, dtype: float64\n",
      "      Buy_date   Sell_date  Strike_price  Buy_Price  Sell_Price Trade_Type Option Type  Total_PandL  amount_to_invest Units  Total_PandL_for_all_contracts Year_month      Y_M\n",
      "0   2021-01-01  2021-01-28       31200.0    1008.20        0.10       Long          CE     -1008.10            400000   135                     -136093.50       2021  2021-01\n",
      "1   2021-01-01  2021-01-28       31200.0     938.35      794.70       Long          PE      -143.65            400000   135                      -19392.75       2021  2021-01\n",
      "2   2021-01-01  2021-01-28       32200.0     591.70        0.25      Short          CE       591.45            400000   135                       79845.75       2021  2021-01\n",
      "3   2021-01-01  2021-01-28       30200.0     513.00       12.00      Short          PE       501.00            400000   135                       67635.00       2021  2021-01\n",
      "4   2021-02-01  2021-02-25       30900.0    1136.30     5814.75       Long          CE      4678.45            400000   129                      603520.05       2021  2021-02\n",
      "5   2021-02-01  2021-02-25       30900.0     961.50        0.10       Long          PE      -961.40            400000   129                     -124020.60       2021  2021-02\n",
      "6   2021-02-01  2021-02-25       31900.0     638.35     4684.75      Short          CE     -4046.40            400000   129                     -521985.60       2021  2021-02\n",
      "7   2021-02-01  2021-02-25       29900.0     566.85        0.15      Short          PE       566.70            400000   129                       73104.30       2021  2021-02\n",
      "8   2021-03-01  2021-03-25       35300.0    1193.80        0.05       Long          CE     -1193.75            400000   115                     -137281.25       2021  2021-03\n",
      "9   2021-03-01  2021-03-25       35300.0    1258.85     1720.85       Long          PE       462.00            400000   115                       53130.00       2021  2021-03\n",
      "10  2021-03-01  2021-03-25       36300.0     864.60        0.15      Short          CE       864.45            400000   115                       99411.75       2021  2021-03\n",
      "11  2021-03-01  2021-03-25       34300.0     760.20     1219.50      Short          PE      -459.30            400000   115                      -52819.50       2021  2021-03\n"
     ]
    }
   ],
   "source": [
    "test =month_profit_loss_main\n",
    "test['Y_M'] = pd.to_datetime(month_profit_loss_main['Sell_date']).dt.strftime('%Y-%m')\n",
    "print(test.groupby(['Y_M','Trade_Type'])[\"Total_PandL_for_all_contracts\"].sum().astype(float))\n",
    "print(test)"
   ]
  },
  {
   "cell_type": "markdown",
   "id": "forty-breakfast",
   "metadata": {},
   "source": [
    "first_day_of_the_month = datetime.date(2017, 9, 1)\n",
    "lastday = datetime.date(2017, 9, 28)\n",
    "symbol = 'BANKNIFTY'\n",
    "nifty_fut = nsepy.get_history(symbol=symbol,\n",
    "                                        start=first_day_of_the_month,\n",
    "                                        end=lastday,\n",
    "                                        index=True,\n",
    "                                        futures=True,\n",
    "                                        expiry_date=lastday)\n",
    "print(nifty_fut)\n",
    "nifty_fut['Close'].plot()    "
   ]
  },
  {
   "cell_type": "code",
   "execution_count": null,
   "id": "advised-power",
   "metadata": {},
   "outputs": [],
   "source": []
  },
  {
   "cell_type": "code",
   "execution_count": null,
   "id": "reliable-tunisia",
   "metadata": {},
   "outputs": [],
   "source": []
  },
  {
   "cell_type": "code",
   "execution_count": 13,
   "id": "handed-denial",
   "metadata": {},
   "outputs": [
    {
     "name": "stdout",
     "output_type": "stream",
     "text": [
      "Trade_Type\n",
      "Long     1833.55\n",
      "Short   -1982.10\n",
      "Name: Total_PandL, dtype: float64\n",
      "     Buy_date   Sell_date  Strike_price  Buy_Price  Sell_Price Trade_Type Option Type  Total_PandL  amount_to_invest Units  Total_PandL_for_all_contracts Year_month      Y_M\n",
      "0  2021-01-01  2021-01-28       31200.0    1008.20        0.10       Long          CE     -1008.10            400000   135                     -136093.50       2021  2021-01\n",
      "1  2021-01-01  2021-01-28       31200.0     938.35      794.70       Long          PE      -143.65            400000   135                      -19392.75       2021  2021-01\n",
      "4  2021-02-01  2021-02-25       30900.0    1136.30     5814.75       Long          CE      4678.45            400000   129                      603520.05       2021  2021-02\n",
      "5  2021-02-01  2021-02-25       30900.0     961.50        0.10       Long          PE      -961.40            400000   129                     -124020.60       2021  2021-02\n",
      "8  2021-03-01  2021-03-25       35300.0    1193.80        0.05       Long          CE     -1193.75            400000   115                     -137281.25       2021  2021-03\n",
      "9  2021-03-01  2021-03-25       35300.0    1258.85     1720.85       Long          PE       462.00            400000   115                       53130.00       2021  2021-03\n",
      "      Buy_date   Sell_date  Strike_price  Buy_Price  Sell_Price Trade_Type Option Type  Total_PandL  amount_to_invest Units  Total_PandL_for_all_contracts Year_month      Y_M\n",
      "2   2021-01-01  2021-01-28       32200.0     591.70        0.25      Short          CE       591.45            400000   135                       79845.75       2021  2021-01\n",
      "3   2021-01-01  2021-01-28       30200.0     513.00       12.00      Short          PE       501.00            400000   135                       67635.00       2021  2021-01\n",
      "6   2021-02-01  2021-02-25       31900.0     638.35     4684.75      Short          CE     -4046.40            400000   129                     -521985.60       2021  2021-02\n",
      "7   2021-02-01  2021-02-25       29900.0     566.85        0.15      Short          PE       566.70            400000   129                       73104.30       2021  2021-02\n",
      "10  2021-03-01  2021-03-25       36300.0     864.60        0.15      Short          CE       864.45            400000   115                       99411.75       2021  2021-03\n",
      "11  2021-03-01  2021-03-25       34300.0     760.20     1219.50      Short          PE      -459.30            400000   115                      -52819.50       2021  2021-03\n"
     ]
    }
   ],
   "source": [
    "gkk = month_profit_loss_main.groupby([\"Trade_Type\"])\n",
    "print(gkk['Total_PandL'].sum())\n",
    "for name ,group in gkk:\n",
    "    print(group)\n"
   ]
  },
  {
   "cell_type": "code",
   "execution_count": null,
   "id": "industrial-earth",
   "metadata": {},
   "outputs": [],
   "source": [
    "month_profit_loss_main['Total_PandL_for_all_contracts'].cumsum()"
   ]
  },
  {
   "cell_type": "code",
   "execution_count": null,
   "id": "current-pendant",
   "metadata": {},
   "outputs": [],
   "source": []
  }
 ],
 "metadata": {
  "kernelspec": {
   "display_name": "Python 3",
   "language": "python",
   "name": "python3"
  },
  "language_info": {
   "codemirror_mode": {
    "name": "ipython",
    "version": 3
   },
   "file_extension": ".py",
   "mimetype": "text/x-python",
   "name": "python",
   "nbconvert_exporter": "python",
   "pygments_lexer": "ipython3",
   "version": "3.8.8"
  }
 },
 "nbformat": 4,
 "nbformat_minor": 5
}
