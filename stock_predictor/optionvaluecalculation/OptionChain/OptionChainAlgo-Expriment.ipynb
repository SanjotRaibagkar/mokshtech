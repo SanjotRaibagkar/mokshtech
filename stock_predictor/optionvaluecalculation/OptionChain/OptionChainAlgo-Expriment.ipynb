{
 "cells": [
  {
   "cell_type": "code",
   "execution_count": 1,
   "id": "greek-basics",
   "metadata": {},
   "outputs": [],
   "source": [
    "import requests\n",
    "import json\n",
    "#import logging\n",
    "#import http.client\n",
    "import pandas as pd\n",
    "import xlwings as xw\n",
    "from time import sleep\n",
    "from datetime import datetime,time,timedelta\n",
    "import os\n",
    "#import property as p\n",
    "import numpy as np\n",
    "import matplotlib.pyplot as plt\n",
    "#from scipy.interpolate import make_interp_spline, BSplin\n",
    "import seaborn\n",
    "\n",
    "\n",
    "\n",
    "pd.set_option(\"display.width\",1500)\n",
    "pd.set_option(\"display.max_columns\",75)\n",
    "pd.set_option(\"display.max_rows\",150)\n",
    "%config Completer.use_jedi = False"
   ]
  },
  {
   "cell_type": "code",
   "execution_count": 2,
   "id": "macro-professor",
   "metadata": {},
   "outputs": [],
   "source": [
    "def readJson(filename):\n",
    "    with open(filename,\"r\") as files:\n",
    "        data = json.load(files)\n",
    "    #print(data)\n",
    "    return data"
   ]
  },
  {
   "cell_type": "code",
   "execution_count": 50,
   "id": "extended-consistency",
   "metadata": {},
   "outputs": [],
   "source": [
    "df_list = readJson(\"oi_data_records_310321.json\")\n",
    "df = pd.DataFrame()\n",
    "for item in df_list:\n",
    "    df = pd.concat([df,pd.DataFrame(item)])\n",
    "#print(df)\n",
    "\n"
   ]
  },
  {
   "cell_type": "code",
   "execution_count": 4,
   "id": "liable-furniture",
   "metadata": {},
   "outputs": [
    {
     "data": {
      "text/plain": [
       "(11680, 21)"
      ]
     },
     "execution_count": 4,
     "metadata": {},
     "output_type": "execute_result"
    }
   ],
   "source": [
    "df.shape"
   ]
  },
  {
   "cell_type": "code",
   "execution_count": 5,
   "id": "julian-fundamental",
   "metadata": {},
   "outputs": [],
   "source": [
    "df1 = df[df['expiryDate'] == '01-Apr-2021']"
   ]
  },
  {
   "cell_type": "code",
   "execution_count": 6,
   "id": "distant-finish",
   "metadata": {},
   "outputs": [
    {
     "name": "stdout",
     "output_type": "stream",
     "text": [
      "['CE' 'PE']\n",
      "33320\n"
     ]
    }
   ],
   "source": [
    "df2 = df1[(df1['lastPrice']  !=0)   & (df1['impliedVolatility']  !=0) & (df1['Time']== df1['Time'].max())]\n",
    "\n",
    "print(df2['type'].unique())\n",
    "\n",
    "print(int(df2['underlyingValue'].unique()[0]))\n"
   ]
  },
  {
   "cell_type": "code",
   "execution_count": 7,
   "id": "immediate-oxide",
   "metadata": {},
   "outputs": [
    {
     "data": {
      "text/plain": [
       "Index(['Time', 'askPrice', 'askQty', 'bidQty', 'bidprice', 'change', 'changeinOpenInterest', 'expiryDate', 'identifier', 'impliedVolatility', 'lastPrice', 'openInterest', 'pChange', 'pchangeinOpenInterest', 'strikePrice', 'totalBuyQuantity', 'totalSellQuantity', 'totalTradedVolume', 'type', 'underlying', 'underlyingValue'], dtype='object')"
      ]
     },
     "execution_count": 7,
     "metadata": {},
     "output_type": "execute_result"
    }
   ],
   "source": [
    "##df2 = df1.groupby(['Time','underlyingValue'])[['change', 'changeinOpenInterest', 'expiryDate']].size().reset_index().rename(columns = {0:'count'})\n",
    "df2.columns"
   ]
  },
  {
   "cell_type": "code",
   "execution_count": 68,
   "id": "adult-contact",
   "metadata": {},
   "outputs": [
    {
     "name": "stdout",
     "output_type": "stream",
     "text": [
      "[31000, 31500, 32000, 32500, 33000, 33500, 34000, 34500, 33300]\n",
      "33300\n",
      "     change  changeinOpenInterest  impliedVolatility  lastPrice  openInterest    pChange  pchangeinOpenInterest  strikePrice type\n",
      "57  -486.45                  7615              44.03     533.00         15970 -47.716906              91.143028        33000   CE\n",
      "62  -403.30                 28552              40.01     223.80         43681 -64.311912             188.723643        33500   CE\n",
      "67  -263.95                 12285              37.98      61.70         55912 -81.053278              28.159167        34000   CE\n",
      "183  -10.35                  3352              42.70      45.35         26808 -18.581688              14.290587        32500   PE\n",
      "188   12.70                 10647              39.50     127.55         38482  11.057902              38.250404        33000   PE\n",
      "191   49.55                  7912              37.48     224.95         15810  28.249715             100.177260        33300   PE\n"
     ]
    }
   ],
   "source": [
    "def findStrikerangeDataframe(df, underlyingvalue , rangeval):\n",
    "    start = (underlyingvalue-underlyingvalue%500)-rangeval\n",
    "    end = (underlyingvalue-underlyingvalue%500) +rangeval\n",
    "    strikerang = [*range(start,end,500)]\n",
    "    atm =underlyingvalue-underlyingvalue%100 \n",
    "    strikerang.append(atm)\n",
    "    print(strikerang)\n",
    "    df1 = df[df['strikePrice'].isin (strikerang)]\n",
    "    range_df = df1.drop(['Time','askPrice', 'askQty', 'bidQty', 'bidprice','totalBuyQuantity', 'totalSellQuantity','underlying','totalTradedVolume','identifier','underlyingValue','expiryDate'], axis=1)\n",
    "    return range_df,atm\n",
    "\n",
    "\n",
    "range_df, atm = findStrikerangeDataframe(df2,int(df2['underlyingValue'].unique()[0]),2000)\n",
    "print(atm)\n",
    "\n",
    "newdf =(range_df.groupby('type')['changeinOpenInterest'].nlargest(3).reset_index().rename(columns = {'level_1':'n'}) )\n",
    "print((range_df[range_df.index.isin(newdf['n'])]))\n",
    "#print(range_df[range_df['changeinOpenInterest']== 28552])\n",
    "#print(range_df.loc[[62]])\n",
    "\n",
    "#print(int(df2['underlyingValue'].unique()[0]))\n",
    "#int(df2['underlyingValue'].unique()[0])%500\n"
   ]
  },
  {
   "cell_type": "raw",
   "id": "romance-spanking",
   "metadata": {},
   "source": [
    "\n"
   ]
  },
  {
   "cell_type": "code",
   "execution_count": null,
   "id": "refined-holocaust",
   "metadata": {},
   "outputs": [],
   "source": [
    "\n"
   ]
  },
  {
   "cell_type": "code",
   "execution_count": null,
   "id": "comparable-rescue",
   "metadata": {},
   "outputs": [],
   "source": []
  }
 ],
 "metadata": {
  "kernelspec": {
   "display_name": "Python 3",
   "language": "python",
   "name": "python3"
  },
  "language_info": {
   "codemirror_mode": {
    "name": "ipython",
    "version": 3
   },
   "file_extension": ".py",
   "mimetype": "text/x-python",
   "name": "python",
   "nbconvert_exporter": "python",
   "pygments_lexer": "ipython3",
   "version": "3.8.8"
  }
 },
 "nbformat": 4,
 "nbformat_minor": 5
}
